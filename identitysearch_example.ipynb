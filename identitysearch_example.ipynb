{
 "cells": [
  {
   "cell_type": "markdown",
   "id": "8f598b25-e6f5-449e-8cc5-ff086855cdd1",
   "metadata": {},
   "source": [
    "Demonstration of quantum gate identity search"
   ]
  },
  {
   "cell_type": "code",
   "execution_count": null,
   "id": "475d8f54",
   "metadata": {},
   "outputs": [],
   "source": [
    "from sympy.physics.quantum.gate import (X, Y, Z, H, S, T, CNOT,\n",
    "        IdentityGate, CGate, gate_simp)\n",
    "from sympy.physics.quantum.identitysearch import *\n",
    "from sympy.physics.quantum.dagger import Dagger"
   ]
  },
  {
   "cell_type": "code",
   "execution_count": null,
   "id": "e42a986f",
   "metadata": {},
   "outputs": [],
   "source": [
    "# Declare a few quantum gates\n",
    "x = X(0)\n",
    "y = Y(0)\n",
    "z = Z(0)\n",
    "h = H(0)\n",
    "cnot = CNOT(1,0)\n",
    "cgate_z = CGate((0,), Z(1))"
   ]
  },
  {
   "cell_type": "code",
   "execution_count": null,
   "id": "114ef61a",
   "metadata": {
    "collapsed": false,
    "jupyter": {
     "outputs_hidden": false
    }
   },
   "outputs": [],
   "source": [
    "# Start with the trivial cases\n",
    "gate_list = [x]\n",
    "\n",
    "bfs_identity_search(gate_list, 1, max_depth=2)"
   ]
  },
  {
   "cell_type": "code",
   "execution_count": null,
   "id": "8e179061",
   "metadata": {
    "collapsed": false,
    "jupyter": {
     "outputs_hidden": false
    }
   },
   "outputs": [],
   "source": [
    "gate_list = [y]\n",
    "\n",
    "bfs_identity_search(gate_list, 1, max_depth=2)"
   ]
  },
  {
   "cell_type": "code",
   "execution_count": null,
   "id": "c478cc13",
   "metadata": {
    "collapsed": false,
    "jupyter": {
     "outputs_hidden": false
    }
   },
   "outputs": [],
   "source": [
    "# bfs_identity_search looks for circuits that reduce to a\n",
    "# scalar value unless told otherwise.\n",
    "# The following list should produce 4 identities as a result.\n",
    "gate_list = [x, y, z]\n",
    "\n",
    "bfs_identity_search(gate_list, 2)"
   ]
  },
  {
   "cell_type": "code",
   "execution_count": null,
   "id": "6aaca739",
   "metadata": {
    "collapsed": false,
    "jupyter": {
     "outputs_hidden": false
    }
   },
   "outputs": [],
   "source": [
    "gate_list = [x, y, z, h]\n",
    "\n",
    "bfs_identity_search(gate_list, 2)"
   ]
  },
  {
   "cell_type": "code",
   "execution_count": null,
   "id": "765d9d2b",
   "metadata": {
    "collapsed": false,
    "jupyter": {
     "outputs_hidden": false
    }
   },
   "outputs": [],
   "source": [
    "# One has the option to limit the max size of the circuit.\n",
    "# The default size is the size of the gate list.\n",
    "bfs_identity_search(gate_list, 2, max_depth=3)"
   ]
  },
  {
   "cell_type": "code",
   "execution_count": null,
   "id": "9ac2a818",
   "metadata": {
    "collapsed": false,
    "jupyter": {
     "outputs_hidden": false
    }
   },
   "outputs": [],
   "source": [
    "# One also has the option to find circuits that only reduce\n",
    "# to the Identity matrix rather than only scalar matrices.\n",
    "bfs_identity_search(gate_list, 2, identity_only=True)"
   ]
  },
  {
   "cell_type": "code",
   "execution_count": null,
   "id": "d9c8b43e",
   "metadata": {
    "collapsed": false,
    "jupyter": {
     "outputs_hidden": false
    }
   },
   "outputs": [],
   "source": [
    "gate_list = [cnot, cgate_z, h]\n",
    "\n",
    "bfs_identity_search(gate_list, 2, max_depth=4)"
   ]
  }
 ],
 "metadata": {
  "kernelspec": {
   "display_name": "Python 3",
   "language": "python",
   "name": "python3"
  },
  "language_info": {
   "codemirror_mode": {
    "name": "ipython",
    "version": 3
   },
   "file_extension": ".py",
   "mimetype": "text/x-python",
   "name": "python",
   "nbconvert_exporter": "python",
   "pygments_lexer": "ipython3",
   "version": "3.8.8"
  }
 },
 "nbformat": 4,
 "nbformat_minor": 5
}
