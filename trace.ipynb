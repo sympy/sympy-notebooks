{
 "cells": [
  {
   "cell_type": "code",
   "execution_count": null,
   "id": "feb9c566",
   "metadata": {},
   "outputs": [],
   "source": [
    "from sympy import *\n",
    "from sympy.core.trace import Tr\n",
    "from IPython.core.display import display_pretty\n",
    "from sympy.printing.latex import *"
   ]
  },
  {
   "cell_type": "markdown",
   "id": "b2aa387d",
   "metadata": {},
   "source": [
    "###Basic Examples"
   ]
  },
  {
   "cell_type": "code",
   "execution_count": null,
   "id": "67e90f00",
   "metadata": {},
   "outputs": [],
   "source": [
    "a, b, c, d = symbols('a b c d'); \n",
    "A, B = symbols('A B', commutative=False)\n",
    "t = Tr(A*B)"
   ]
  },
  {
   "cell_type": "code",
   "execution_count": null,
   "id": "bd9c4bb0",
   "metadata": {
    "collapsed": false,
    "jupyter": {
     "outputs_hidden": false
    }
   },
   "outputs": [],
   "source": [
    "t"
   ]
  },
  {
   "cell_type": "code",
   "execution_count": null,
   "id": "461fb238",
   "metadata": {
    "collapsed": false,
    "jupyter": {
     "outputs_hidden": false
    }
   },
   "outputs": [],
   "source": [
    "latex(t)"
   ]
  },
  {
   "cell_type": "code",
   "execution_count": null,
   "id": "1ec9f226",
   "metadata": {
    "collapsed": false,
    "jupyter": {
     "outputs_hidden": false
    }
   },
   "outputs": [],
   "source": [
    "display_pretty(t)"
   ]
  },
  {
   "cell_type": "markdown",
   "id": "8a4bb859",
   "metadata": {},
   "source": [
    "### Using Matrices"
   ]
  },
  {
   "cell_type": "code",
   "execution_count": null,
   "id": "3fe94187",
   "metadata": {},
   "outputs": [],
   "source": [
    "t = Tr ( Matrix([ [2,3], [3,4] ]))"
   ]
  },
  {
   "cell_type": "code",
   "execution_count": null,
   "id": "bd048b51",
   "metadata": {
    "collapsed": false,
    "jupyter": {
     "outputs_hidden": false
    }
   },
   "outputs": [],
   "source": [
    "t"
   ]
  },
  {
   "cell_type": "markdown",
   "id": "2ba59373",
   "metadata": {},
   "source": [
    "### Example using modules in physics.quantum"
   ]
  },
  {
   "cell_type": "code",
   "execution_count": null,
   "id": "8d6c1e2e",
   "metadata": {},
   "outputs": [],
   "source": [
    "from sympy.physics.quantum.density import Density\n",
    "from sympy.physics.quantum.spin import (\n",
    "    Jx, Jy, Jz, Jplus, Jminus, J2,\n",
    "    JxBra, JyBra, JzBra,\n",
    "    JxKet, JyKet, JzKet,\n",
    ")"
   ]
  },
  {
   "cell_type": "code",
   "execution_count": null,
   "id": "ced8a774",
   "metadata": {
    "collapsed": false,
    "jupyter": {
     "outputs_hidden": false
    }
   },
   "outputs": [],
   "source": [
    "d = Density([JzKet(1,1),0.5],[JzKet(1,-1),0.5]); d"
   ]
  },
  {
   "cell_type": "code",
   "execution_count": null,
   "id": "622c5880",
   "metadata": {},
   "outputs": [],
   "source": [
    "t = Tr(d)"
   ]
  },
  {
   "cell_type": "code",
   "execution_count": null,
   "id": "aa34b566",
   "metadata": {
    "collapsed": false,
    "jupyter": {
     "outputs_hidden": false
    }
   },
   "outputs": [],
   "source": [
    "t"
   ]
  },
  {
   "cell_type": "code",
   "execution_count": null,
   "id": "c712c194",
   "metadata": {
    "collapsed": false,
    "jupyter": {
     "outputs_hidden": false
    }
   },
   "outputs": [],
   "source": [
    "latex(t)"
   ]
  },
  {
   "cell_type": "code",
   "execution_count": null,
   "id": "ac48fb87",
   "metadata": {
    "collapsed": false,
    "jupyter": {
     "outputs_hidden": false
    }
   },
   "outputs": [],
   "source": [
    "t.doit()"
   ]
  }
 ],
 "metadata": {
  "kernelspec": {
   "display_name": "Python 3",
   "language": "python",
   "name": "python3"
  },
  "language_info": {
   "codemirror_mode": {
    "name": "ipython",
    "version": 3
   },
   "file_extension": ".py",
   "mimetype": "text/x-python",
   "name": "python",
   "nbconvert_exporter": "python",
   "pygments_lexer": "ipython3",
   "version": "3.8.8"
  }
 },
 "nbformat": 4,
 "nbformat_minor": 5
}
