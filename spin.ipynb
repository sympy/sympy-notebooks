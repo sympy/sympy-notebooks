{
 "cells": [
  {
   "cell_type": "markdown",
   "id": "e0c7e7ca",
   "metadata": {},
   "source": [
    "# Quantum Angular Momentum Module\n",
    "\n",
    "This file will show how to use the various objects and methods in the `sympy.physics.quantum.spin` module, with some examples. Much of the work in this module is based off Varschalovich \"Quantum Theory of Angular Momentum\"."
   ]
  },
  {
   "cell_type": "code",
   "execution_count": null,
   "id": "8483d655",
   "metadata": {
    "collapsed": false,
    "jupyter": {
     "outputs_hidden": false
    }
   },
   "outputs": [],
   "source": [
    "from sympy import factor, pi, S, Sum, symbols\n",
    "from sympy.physics.quantum.spin import Jminus, Jx, Jz, J2, J2Op, JzKet, JzKetCoupled, Rotation, WignerD, couple, uncouple\n",
    "from sympy.physics.quantum import Dagger, hbar, qapply, represent, TensorProduct"
   ]
  },
  {
   "cell_type": "markdown",
   "id": "602765c8",
   "metadata": {},
   "source": [
    "## Basic spin states and operators\n",
    "\n",
    "We can define simple spin states and operators and manipulate them with standard quantum machinery."
   ]
  },
  {
   "cell_type": "markdown",
   "id": "4fdaae6b",
   "metadata": {},
   "source": [
    "Define a spin ket:"
   ]
  },
  {
   "cell_type": "code",
   "execution_count": null,
   "id": "6dec4744",
   "metadata": {
    "collapsed": false,
    "jupyter": {
     "outputs_hidden": false
    }
   },
   "outputs": [],
   "source": [
    "jz = JzKet(1,1); jz"
   ]
  },
  {
   "cell_type": "markdown",
   "id": "2f0da704",
   "metadata": {},
   "source": [
    "Find the vector representation of the state:"
   ]
  },
  {
   "cell_type": "code",
   "execution_count": null,
   "id": "6d0b491f",
   "metadata": {
    "collapsed": false,
    "jupyter": {
     "outputs_hidden": false
    }
   },
   "outputs": [],
   "source": [
    "represent(jz)"
   ]
  },
  {
   "cell_type": "markdown",
   "id": "8c453360",
   "metadata": {},
   "source": [
    "Create and evaluate an innerproduct of a bra and a ket:"
   ]
  },
  {
   "cell_type": "code",
   "execution_count": null,
   "id": "0b4e0b41",
   "metadata": {
    "collapsed": false,
    "jupyter": {
     "outputs_hidden": false
    }
   },
   "outputs": [],
   "source": [
    "ip = Dagger(jz) * jz; ip"
   ]
  },
  {
   "cell_type": "code",
   "execution_count": null,
   "id": "1e4c2974",
   "metadata": {
    "collapsed": false,
    "jupyter": {
     "outputs_hidden": false
    }
   },
   "outputs": [],
   "source": [
    "ip.doit()"
   ]
  },
  {
   "cell_type": "markdown",
   "id": "9af8d1a9",
   "metadata": {},
   "source": [
    "Apply an angular momentum operator to the state:"
   ]
  },
  {
   "cell_type": "code",
   "execution_count": null,
   "id": "739e76ff",
   "metadata": {
    "collapsed": false,
    "jupyter": {
     "outputs_hidden": false
    }
   },
   "outputs": [],
   "source": [
    "Jz * jz"
   ]
  },
  {
   "cell_type": "code",
   "execution_count": null,
   "id": "a5e57574",
   "metadata": {
    "collapsed": false,
    "jupyter": {
     "outputs_hidden": false
    }
   },
   "outputs": [],
   "source": [
    "qapply(Jz * jz)"
   ]
  },
  {
   "cell_type": "code",
   "execution_count": null,
   "id": "f785101c",
   "metadata": {
    "collapsed": false,
    "jupyter": {
     "outputs_hidden": false
    }
   },
   "outputs": [],
   "source": [
    "Jminus * jz"
   ]
  },
  {
   "cell_type": "code",
   "execution_count": null,
   "id": "4941cbfb",
   "metadata": {
    "collapsed": false,
    "jupyter": {
     "outputs_hidden": false
    }
   },
   "outputs": [],
   "source": [
    "qapply(Jminus * jz)"
   ]
  },
  {
   "cell_type": "markdown",
   "id": "e9ccc9ec",
   "metadata": {},
   "source": [
    "We can also do this for symbolic angular momentum states:"
   ]
  },
  {
   "cell_type": "code",
   "execution_count": null,
   "id": "5fba7faa",
   "metadata": {
    "collapsed": false,
    "jupyter": {
     "outputs_hidden": false
    }
   },
   "outputs": [],
   "source": [
    "j, m = symbols('j m')\n",
    "jz = JzKet(j, m); jz"
   ]
  },
  {
   "cell_type": "code",
   "execution_count": null,
   "id": "eeb972a6",
   "metadata": {
    "collapsed": false,
    "jupyter": {
     "outputs_hidden": false
    }
   },
   "outputs": [],
   "source": [
    "J2 * jz"
   ]
  },
  {
   "cell_type": "code",
   "execution_count": null,
   "id": "ba97f6b3",
   "metadata": {
    "collapsed": false,
    "jupyter": {
     "outputs_hidden": false
    }
   },
   "outputs": [],
   "source": [
    "qapply(J2 * jz)"
   ]
  },
  {
   "cell_type": "markdown",
   "id": "66be02d9",
   "metadata": {},
   "source": [
    "Find the matrix representation of a angular momentum operator:"
   ]
  },
  {
   "cell_type": "code",
   "execution_count": null,
   "id": "187bb1d0",
   "metadata": {
    "collapsed": false,
    "jupyter": {
     "outputs_hidden": false
    }
   },
   "outputs": [],
   "source": [
    "represent(Jz, j=1)"
   ]
  },
  {
   "cell_type": "markdown",
   "id": "4aa080a1",
   "metadata": {},
   "source": [
    "## Utilizing different bases\n",
    "\n",
    "Angular momentum states and operators are able to go between different spin bases"
   ]
  },
  {
   "cell_type": "markdown",
   "id": "246a745a",
   "metadata": {},
   "source": [
    "We can rewrite states as states in another basis:"
   ]
  },
  {
   "cell_type": "code",
   "execution_count": null,
   "id": "318e3441",
   "metadata": {
    "collapsed": false,
    "jupyter": {
     "outputs_hidden": false
    }
   },
   "outputs": [],
   "source": [
    "jz = JzKet(1, 1)\n",
    "jz.rewrite(\"Jx\")"
   ]
  },
  {
   "cell_type": "markdown",
   "id": "8885140d",
   "metadata": {},
   "source": [
    "Vector representation can also be done into different bases:"
   ]
  },
  {
   "cell_type": "code",
   "execution_count": null,
   "id": "2a50be2c",
   "metadata": {
    "collapsed": false,
    "jupyter": {
     "outputs_hidden": false
    }
   },
   "outputs": [],
   "source": [
    "represent(jz, basis=Jx)"
   ]
  },
  {
   "cell_type": "markdown",
   "id": "a9fd40e2",
   "metadata": {},
   "source": [
    "When applying operators in another spin basis, any conversion necessary to apply the state is done, then the states are given back in the original basis. So in the following example, the state returned by `qapply` are in the $J_z$ basis:"
   ]
  },
  {
   "cell_type": "code",
   "execution_count": null,
   "id": "7a24cce5",
   "metadata": {
    "collapsed": false,
    "jupyter": {
     "outputs_hidden": false
    }
   },
   "outputs": [],
   "source": [
    "Jx * jz"
   ]
  },
  {
   "cell_type": "code",
   "execution_count": null,
   "id": "b809b17e",
   "metadata": {
    "collapsed": false,
    "jupyter": {
     "outputs_hidden": false
    }
   },
   "outputs": [],
   "source": [
    "qapply(Jx * jz)"
   ]
  },
  {
   "cell_type": "markdown",
   "id": "11117f4f",
   "metadata": {},
   "source": [
    "Rewriting states and applying operators between bases can also be done symbolically. In this case, the result is given in terms of Wigner-D matrix elements (see the next section for more information on the `Rotation` operator)."
   ]
  },
  {
   "cell_type": "code",
   "execution_count": null,
   "id": "ca1d7466",
   "metadata": {
    "collapsed": false,
    "jupyter": {
     "outputs_hidden": false
    }
   },
   "outputs": [],
   "source": [
    "jz = JzKet(j, m)\n",
    "jz.rewrite(\"Jx\")"
   ]
  },
  {
   "cell_type": "markdown",
   "id": "d566065c",
   "metadata": {},
   "source": [
    "## Rotation Operator\n",
    "\n",
    "Arbitrary rotations of spin states, written in terms of Euler angles, can be modeled using the rotation operator. These methods are utilized to go between spin bases, as seen in the section above."
   ]
  },
  {
   "cell_type": "markdown",
   "id": "2d0ff186",
   "metadata": {},
   "source": [
    "Define an arbitrary rotation operator. The given angles are Euler angles in the `z-y-z` convention."
   ]
  },
  {
   "cell_type": "code",
   "execution_count": null,
   "id": "0069549c",
   "metadata": {
    "collapsed": false,
    "jupyter": {
     "outputs_hidden": false
    }
   },
   "outputs": [],
   "source": [
    "a, b, g = symbols('alpha beta gamma')\n",
    "Rotation(a, b, g)"
   ]
  },
  {
   "cell_type": "markdown",
   "id": "0a89523d",
   "metadata": {},
   "source": [
    "Find the Wigner-D matrix elements of the rotation operator as given by $\\langle j, m'|\\mathcal{R}(\\alpha, \\beta, \\gamma)|j,m\\rangle$:"
   ]
  },
  {
   "cell_type": "code",
   "execution_count": null,
   "id": "fd088f06",
   "metadata": {
    "collapsed": false,
    "jupyter": {
     "outputs_hidden": false
    }
   },
   "outputs": [],
   "source": [
    "mp = symbols('mp')\n",
    "r = Rotation.D(j, m, mp, a, b, g); r"
   ]
  },
  {
   "cell_type": "markdown",
   "id": "894a9245",
   "metadata": {},
   "source": [
    "Numerical matrix elements can be evaluated using the `.doit()` method:"
   ]
  },
  {
   "cell_type": "code",
   "execution_count": null,
   "id": "45b7f34c",
   "metadata": {
    "collapsed": false,
    "jupyter": {
     "outputs_hidden": false
    }
   },
   "outputs": [],
   "source": [
    "r = Rotation.D(1, 1, 0, pi, pi/2, 0); r"
   ]
  },
  {
   "cell_type": "code",
   "execution_count": null,
   "id": "3488fa9a",
   "metadata": {
    "collapsed": false,
    "jupyter": {
     "outputs_hidden": false
    }
   },
   "outputs": [],
   "source": [
    "r.doit()"
   ]
  },
  {
   "cell_type": "markdown",
   "id": "f3da643b",
   "metadata": {},
   "source": [
    "The Wigner small-d matrix elements give rotations when $\\alpha=\\gamma=0$. These matrix elements can be found in the same manner as above:"
   ]
  },
  {
   "cell_type": "code",
   "execution_count": null,
   "id": "d6f01f73",
   "metadata": {
    "collapsed": false,
    "jupyter": {
     "outputs_hidden": false
    }
   },
   "outputs": [],
   "source": [
    "r = Rotation.d(j, m, mp, b); r"
   ]
  },
  {
   "cell_type": "code",
   "execution_count": null,
   "id": "bd3ea344",
   "metadata": {
    "collapsed": false,
    "jupyter": {
     "outputs_hidden": false
    }
   },
   "outputs": [],
   "source": [
    "r = Rotation.d(1, 1, 0, pi/2); r"
   ]
  },
  {
   "cell_type": "code",
   "execution_count": null,
   "id": "14bc298e",
   "metadata": {
    "collapsed": false,
    "jupyter": {
     "outputs_hidden": false
    }
   },
   "outputs": [],
   "source": [
    "r.doit()"
   ]
  },
  {
   "cell_type": "markdown",
   "id": "cf526e02",
   "metadata": {},
   "source": [
    "You can also directly create a Wigner-D matrix element:"
   ]
  },
  {
   "cell_type": "code",
   "execution_count": null,
   "id": "98f90ba0",
   "metadata": {
    "collapsed": false,
    "jupyter": {
     "outputs_hidden": false
    }
   },
   "outputs": [],
   "source": [
    "WignerD(j, m, mp, a, b, g)"
   ]
  },
  {
   "cell_type": "markdown",
   "id": "3948c42b",
   "metadata": {},
   "source": [
    "## Coupled and Uncoupled States and Operators\n",
    "\n",
    "States and operators can also written in terms of coupled or uncoupled angular momentum spaces."
   ]
  },
  {
   "cell_type": "markdown",
   "id": "a3b5b0d7",
   "metadata": {},
   "source": [
    "### Coupled States and Operators"
   ]
  },
  {
   "cell_type": "markdown",
   "id": "d5338358",
   "metadata": {},
   "source": [
    "Define a simple coupled state of two $j=1$ spin states:"
   ]
  },
  {
   "cell_type": "code",
   "execution_count": null,
   "id": "5a9cf077",
   "metadata": {
    "collapsed": false,
    "jupyter": {
     "outputs_hidden": false
    }
   },
   "outputs": [],
   "source": [
    "jzc = JzKetCoupled(1, 0, (1, 1)); jzc"
   ]
  },
  {
   "cell_type": "markdown",
   "id": "8ac9e877",
   "metadata": {},
   "source": [
    "Note that the Hilbert space of coupled states is the direct sum of the coupled spin spaces. This can be seen in the matrix representation of coupled states:"
   ]
  },
  {
   "cell_type": "code",
   "execution_count": null,
   "id": "fe2ef914",
   "metadata": {
    "collapsed": false,
    "jupyter": {
     "outputs_hidden": false
    }
   },
   "outputs": [],
   "source": [
    "jzc.hilbert_space"
   ]
  },
  {
   "cell_type": "code",
   "execution_count": null,
   "id": "a5d8504f",
   "metadata": {
    "collapsed": false,
    "jupyter": {
     "outputs_hidden": false
    }
   },
   "outputs": [],
   "source": [
    "represent(jzc)"
   ]
  },
  {
   "cell_type": "markdown",
   "id": "8e5afb6e",
   "metadata": {},
   "source": [
    "We can also couple more than two spaces together. See the `JzKetCoupled` documentation for more complex coupling schemes involving more than 2 spaces."
   ]
  },
  {
   "cell_type": "code",
   "execution_count": null,
   "id": "b1b5e065",
   "metadata": {
    "collapsed": false,
    "jupyter": {
     "outputs_hidden": false
    }
   },
   "outputs": [],
   "source": [
    "jzc = JzKetCoupled(1, 1, (S(1)/2, S(1)/2, 1)); jzc"
   ]
  },
  {
   "cell_type": "markdown",
   "id": "d4519bf6",
   "metadata": {},
   "source": [
    "The normal operators are assumed to be diagonal in the corresponding coupled basis:"
   ]
  },
  {
   "cell_type": "code",
   "execution_count": null,
   "id": "248ebb18",
   "metadata": {
    "collapsed": false,
    "jupyter": {
     "outputs_hidden": false
    }
   },
   "outputs": [],
   "source": [
    "qapply(Jz * jzc)"
   ]
  },
  {
   "cell_type": "markdown",
   "id": "3cf3d5c7",
   "metadata": {},
   "source": [
    "### Uncoupled States and Operators"
   ]
  },
  {
   "cell_type": "markdown",
   "id": "9d2929ce",
   "metadata": {},
   "source": [
    "Uncoupled states are defined as tensor products of states:"
   ]
  },
  {
   "cell_type": "code",
   "execution_count": null,
   "id": "aff413ca",
   "metadata": {
    "collapsed": false,
    "jupyter": {
     "outputs_hidden": false
    }
   },
   "outputs": [],
   "source": [
    "jzu = TensorProduct(JzKet(1, 1), JzKet(S(1)/2, -S(1)/2)); jzu"
   ]
  },
  {
   "cell_type": "markdown",
   "id": "6d9a183d",
   "metadata": {},
   "source": [
    "Vector representation of tensor product states gives the vector in the direct product space:"
   ]
  },
  {
   "cell_type": "code",
   "execution_count": null,
   "id": "de28bab9",
   "metadata": {
    "collapsed": false,
    "jupyter": {
     "outputs_hidden": false
    }
   },
   "outputs": [],
   "source": [
    "represent(jzu)"
   ]
  },
  {
   "cell_type": "markdown",
   "id": "c4f10e82",
   "metadata": {},
   "source": [
    "Uncoupled operators are also defined as tensor products:"
   ]
  },
  {
   "cell_type": "code",
   "execution_count": null,
   "id": "4986980a",
   "metadata": {
    "collapsed": false,
    "jupyter": {
     "outputs_hidden": false
    }
   },
   "outputs": [],
   "source": [
    "jzopu = TensorProduct(Jz, 1); jzopu"
   ]
  },
  {
   "cell_type": "code",
   "execution_count": null,
   "id": "99f8f74a",
   "metadata": {
    "collapsed": false,
    "jupyter": {
     "outputs_hidden": false
    }
   },
   "outputs": [],
   "source": [
    "qapply(jzopu * jzu)"
   ]
  },
  {
   "cell_type": "markdown",
   "id": "6c26e300",
   "metadata": {},
   "source": [
    "Coupled operators which are diagonalized by uncoupled states (e.g. $J_z$ and uncoupled $J_z$ eigenstates) can also be applied:"
   ]
  },
  {
   "cell_type": "code",
   "execution_count": null,
   "id": "7364322b",
   "metadata": {
    "collapsed": false,
    "jupyter": {
     "outputs_hidden": false
    }
   },
   "outputs": [],
   "source": [
    "qapply(Jz * jzu)"
   ]
  },
  {
   "cell_type": "markdown",
   "id": "393daeaf",
   "metadata": {},
   "source": [
    "Rewriting states works as before:"
   ]
  },
  {
   "cell_type": "code",
   "execution_count": null,
   "id": "9b709e7a",
   "metadata": {
    "collapsed": false,
    "jupyter": {
     "outputs_hidden": false
    }
   },
   "outputs": [],
   "source": [
    "jzu.rewrite(\"Jx\")"
   ]
  },
  {
   "cell_type": "markdown",
   "id": "b617af88",
   "metadata": {},
   "source": [
    "### Coulping and Uncoupling States"
   ]
  },
  {
   "cell_type": "markdown",
   "id": "3790b27c",
   "metadata": {},
   "source": [
    "The `couple` method will couple an uncoupled state:"
   ]
  },
  {
   "cell_type": "code",
   "execution_count": null,
   "id": "7c80a937",
   "metadata": {
    "collapsed": false,
    "jupyter": {
     "outputs_hidden": false
    }
   },
   "outputs": [],
   "source": [
    "jzu = TensorProduct(JzKet(1, 1), JzKet(S(1)/2, -S(1)/2))\n",
    "couple(jzu)"
   ]
  },
  {
   "cell_type": "markdown",
   "id": "51f6ed50",
   "metadata": {},
   "source": [
    "Similarly, the uncouple method will uncouple a coupled state"
   ]
  },
  {
   "cell_type": "code",
   "execution_count": null,
   "id": "f1fbd12d",
   "metadata": {
    "collapsed": false,
    "jupyter": {
     "outputs_hidden": false
    }
   },
   "outputs": [],
   "source": [
    "jzc = JzKetCoupled(2, 1, (1, S(1)/2, S(1)/2))\n",
    "uncouple(jzc)"
   ]
  },
  {
   "cell_type": "markdown",
   "id": "96c06c18",
   "metadata": {},
   "source": [
    "Uncoupling can also be done with the `.rewrite` method:"
   ]
  },
  {
   "cell_type": "code",
   "execution_count": null,
   "id": "9f6b5102",
   "metadata": {
    "collapsed": false,
    "jupyter": {
     "outputs_hidden": false
    }
   },
   "outputs": [],
   "source": [
    "jzc.rewrite(\"Jz\", coupled=False)"
   ]
  },
  {
   "cell_type": "markdown",
   "id": "0d2ce33a",
   "metadata": {},
   "source": [
    "The `uncouple` method can also uncouple normal states if given a set of spin bases to consider:"
   ]
  },
  {
   "cell_type": "code",
   "execution_count": null,
   "id": "4c38bb86",
   "metadata": {
    "collapsed": false,
    "jupyter": {
     "outputs_hidden": false
    }
   },
   "outputs": [],
   "source": [
    "jz = JzKet(2, 1)\n",
    "uncouple(jz, (1, S(1)/2, S(1)/2))"
   ]
  },
  {
   "cell_type": "markdown",
   "id": "4ad18e5e",
   "metadata": {},
   "source": [
    "## Example: Spin-orbit Coupling\n",
    "\n",
    "If we start with a hydrogen atom, i.e. a nucleus of charge $Ze$ orbited by a single electron of charge $e$ with reduced mass $\\mu$, ignoring energy from center-of-mass motion, we can write the Hamiltonian in terms of the relative momentum, $p$, and position, $r$, as:\n",
    "\n",
    "$$H=\\frac{p^2}{2\\mu} - \\frac{Ze^2}{r}$$\n",
    "\n",
    "The resulting eigenfunctions have a separate radial and angular compents, $\\psi=R_{n,l}(r)Y_{l,m}(\\phi,\\theta)$. While the radial component is a complicated function involving Laguere polynomials, the radial part is the familiar spherical harmonics with orbital angular momentum $\\vec{L}$, where $l$ and $m$ give the orbital angular momentum quantum numbers. We represent this as a angular momentum state:"
   ]
  },
  {
   "cell_type": "code",
   "execution_count": null,
   "id": "5b89582a",
   "metadata": {
    "collapsed": false,
    "jupyter": {
     "outputs_hidden": false
    }
   },
   "outputs": [],
   "source": [
    "l, ml = symbols('l m_l')\n",
    "orbit = JzKet(l, ml); orbit"
   ]
  },
  {
   "cell_type": "markdown",
   "id": "f8d3341c",
   "metadata": {},
   "source": [
    "Now, the spin orbit interaction arises from the electron experiencing a magnetic field as it orbits the electrically charged nucleus. This magnetic field is:\n",
    "\n",
    "$$\\vec{B} = \\frac{1}{c}\\frac{Ze\\vec{v}\\times\\vec{r}}{r^3} = \\frac{Ze\\vec{p}\\times\\vec{r}}{mcr^3}=\\frac{Ze\\vec{L}}{mc\\hbar r^3}$$\n",
    "\n",
    "Then the spin-orbit Hamiltonian can be written, using the electron's magnetic dipole moment $\\mu$, as:\n",
    "\n",
    "$$H_{SO} = -\\vec{\\mu}\\cdot\\vec{B} = -\\left(-\\frac{g\\mu_B \\vec{S}}{\\hbar}\\right)\\cdot\\left(\\frac{Ze\\vec{L}}{mc\\hbar r^3}\\right)$$\n",
    "\n",
    "Ignoring the radial term:\n",
    "\n",
    "$$\\propto \\vec{L}\\cdot\\vec{S} = J^2 - L^2 - S^2$$\n",
    "\n",
    "for $\\vec{J}$, the coupled angular momentum.\n",
    "\n",
    "The electron spin angular momentum is given as $\\vec{S}$, where the spin wavefunction is:"
   ]
  },
  {
   "cell_type": "code",
   "execution_count": null,
   "id": "72a2fd27",
   "metadata": {
    "collapsed": false,
    "jupyter": {
     "outputs_hidden": false
    }
   },
   "outputs": [],
   "source": [
    "ms = symbols('m_s')\n",
    "spin = JzKet(S(1)/2, ms); spin"
   ]
  },
  {
   "cell_type": "markdown",
   "id": "366342fe",
   "metadata": {},
   "source": [
    "From this we build our uncoupled state:"
   ]
  },
  {
   "cell_type": "code",
   "execution_count": null,
   "id": "1adc157d",
   "metadata": {
    "collapsed": false,
    "jupyter": {
     "outputs_hidden": false
    }
   },
   "outputs": [],
   "source": [
    "state = TensorProduct(orbit, spin); state"
   ]
  },
  {
   "cell_type": "markdown",
   "id": "060f7be9",
   "metadata": {},
   "source": [
    "For clarity we will define $L^2$ and $S^2$ operators. These behave the same as `J2`, they only display differently."
   ]
  },
  {
   "cell_type": "code",
   "execution_count": null,
   "id": "b3de65a0",
   "metadata": {
    "collapsed": false,
    "jupyter": {
     "outputs_hidden": false
    }
   },
   "outputs": [],
   "source": [
    "L2 = J2Op('L')\n",
    "S2 = J2Op('S')"
   ]
  },
  {
   "cell_type": "markdown",
   "id": "6a690455",
   "metadata": {},
   "source": [
    "We also have the spin-orbit Hamiltonian:"
   ]
  },
  {
   "cell_type": "code",
   "execution_count": null,
   "id": "43b3d9cc",
   "metadata": {
    "collapsed": false,
    "jupyter": {
     "outputs_hidden": false
    }
   },
   "outputs": [],
   "source": [
    "hso = J2 - TensorProduct(L2, 1) - TensorProduct(1, S2); hso"
   ]
  },
  {
   "cell_type": "markdown",
   "id": "719932d1",
   "metadata": {},
   "source": [
    "Now we apply this to our state:"
   ]
  },
  {
   "cell_type": "code",
   "execution_count": null,
   "id": "f2eacc07",
   "metadata": {
    "collapsed": false,
    "jupyter": {
     "outputs_hidden": false
    }
   },
   "outputs": [],
   "source": [
    "apply1 = qapply(hso * state); apply1"
   ]
  },
  {
   "cell_type": "markdown",
   "id": "19c99957",
   "metadata": {},
   "source": [
    "Note this has not applied the coupled $J^2$ operator to the states, so we couple the states and apply again:"
   ]
  },
  {
   "cell_type": "code",
   "execution_count": null,
   "id": "9da1c172",
   "metadata": {
    "collapsed": false,
    "jupyter": {
     "outputs_hidden": false
    }
   },
   "outputs": [],
   "source": [
    "apply2 = qapply(couple(apply1)); apply2"
   ]
  },
  {
   "cell_type": "markdown",
   "id": "8d598a89",
   "metadata": {},
   "source": [
    "We now collect the terms of the sum, since they share the same limits, and factor the result:"
   ]
  },
  {
   "cell_type": "code",
   "execution_count": null,
   "id": "b26ef4b8",
   "metadata": {
    "collapsed": false,
    "jupyter": {
     "outputs_hidden": false
    }
   },
   "outputs": [],
   "source": [
    "subs = []\n",
    "for sum_term in apply2.atoms(Sum):\n",
    "    subs.append((sum_term, sum_term.function))\n",
    "    limits = sum_term.limits\n",
    "final = Sum(factor(apply2.subs(subs)), limits)\n",
    "final"
   ]
  },
  {
   "cell_type": "markdown",
   "id": "c36dd47d",
   "metadata": {},
   "source": [
    "This gives us the modification of the angular part of the spin-orbit Hamiltonian. We see there is now the new $j$ quantum number in the coupled states, which we see from looking at the equation will have values $l\\pm \\frac{1}{2}$, and $m_j=m_l + m_s$. We still have the $l$ and $s$ quantum numbers."
   ]
  }
 ],
 "metadata": {
  "kernelspec": {
   "display_name": "Python 3",
   "language": "python",
   "name": "python3"
  },
  "language_info": {
   "codemirror_mode": {
    "name": "ipython",
    "version": 3
   },
   "file_extension": ".py",
   "mimetype": "text/x-python",
   "name": "python",
   "nbconvert_exporter": "python",
   "pygments_lexer": "ipython3",
   "version": "3.8.8"
  }
 },
 "nbformat": 4,
 "nbformat_minor": 5
}
