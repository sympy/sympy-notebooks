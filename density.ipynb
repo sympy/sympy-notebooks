{
 "cells": [
  {
   "cell_type": "markdown",
   "id": "3d23117e",
   "metadata": {},
   "source": [
    "# Density operator and matrix "
   ]
  },
  {
   "cell_type": "code",
   "execution_count": null,
   "id": "a2b9ac8b",
   "metadata": {},
   "outputs": [],
   "source": [
    "from sympy import *\n",
    "from sympy.physics.quantum import *\n",
    "from sympy.physics.quantum.density import *\n",
    "from sympy.physics.quantum.spin import (\n",
    "    Jx, Jy, Jz, Jplus, Jminus, J2,\n",
    "    JxBra, JyBra, JzBra,\n",
    "    JxKet, JyKet, JzKet,\n",
    ")\n",
    "from IPython.core.display import display_pretty"
   ]
  },
  {
   "cell_type": "markdown",
   "id": "7f7a7499",
   "metadata": {},
   "source": [
    "Create n density matrix using symbolic states"
   ]
  },
  {
   "cell_type": "code",
   "execution_count": null,
   "id": "382b5403",
   "metadata": {},
   "outputs": [],
   "source": [
    "psi = Ket('psi')\n",
    "phi = Ket('phi')"
   ]
  },
  {
   "cell_type": "code",
   "execution_count": null,
   "id": "05d906bd",
   "metadata": {
    "collapsed": false,
    "jupyter": {
     "outputs_hidden": false
    }
   },
   "outputs": [],
   "source": [
    "d = Density((psi,0.5),(phi,0.5)); d"
   ]
  },
  {
   "cell_type": "code",
   "execution_count": null,
   "id": "2c6b1eaa",
   "metadata": {
    "collapsed": false,
    "jupyter": {
     "outputs_hidden": false
    }
   },
   "outputs": [],
   "source": [
    "display_pretty(d)"
   ]
  },
  {
   "cell_type": "code",
   "execution_count": null,
   "id": "9029b31a",
   "metadata": {
    "collapsed": false,
    "jupyter": {
     "outputs_hidden": false
    }
   },
   "outputs": [],
   "source": [
    "d.states()"
   ]
  },
  {
   "cell_type": "code",
   "execution_count": null,
   "id": "ea913161",
   "metadata": {
    "collapsed": false,
    "jupyter": {
     "outputs_hidden": false
    }
   },
   "outputs": [],
   "source": [
    "d.probs()"
   ]
  },
  {
   "cell_type": "code",
   "execution_count": null,
   "id": "9bd01193",
   "metadata": {
    "collapsed": false,
    "jupyter": {
     "outputs_hidden": false
    }
   },
   "outputs": [],
   "source": [
    "d.doit()"
   ]
  },
  {
   "cell_type": "code",
   "execution_count": null,
   "id": "b9f65c05",
   "metadata": {
    "collapsed": false,
    "jupyter": {
     "outputs_hidden": false
    }
   },
   "outputs": [],
   "source": [
    "Dagger(d)"
   ]
  },
  {
   "cell_type": "code",
   "execution_count": null,
   "id": "b3d26397",
   "metadata": {},
   "outputs": [],
   "source": [
    "A = Operator('A')"
   ]
  },
  {
   "cell_type": "code",
   "execution_count": null,
   "id": "09a61250",
   "metadata": {
    "collapsed": false,
    "jupyter": {
     "outputs_hidden": false
    }
   },
   "outputs": [],
   "source": [
    "d.apply_op(A)"
   ]
  },
  {
   "cell_type": "markdown",
   "id": "977e9579",
   "metadata": {},
   "source": [
    "Now create a density matrix using spin states"
   ]
  },
  {
   "cell_type": "code",
   "execution_count": null,
   "id": "6451f66f",
   "metadata": {},
   "outputs": [],
   "source": [
    "up = JzKet(S(1)/2,S(1)/2)\n",
    "down = JzKet(S(1)/2,-S(1)/2)"
   ]
  },
  {
   "cell_type": "code",
   "execution_count": null,
   "id": "785aad84",
   "metadata": {
    "collapsed": false,
    "jupyter": {
     "outputs_hidden": false
    }
   },
   "outputs": [],
   "source": [
    "d2 = Density((up,0.5),(down,0.5)); d2"
   ]
  },
  {
   "cell_type": "code",
   "execution_count": null,
   "id": "6f1fd22f",
   "metadata": {
    "collapsed": false,
    "jupyter": {
     "outputs_hidden": false
    }
   },
   "outputs": [],
   "source": [
    "represent(d2)"
   ]
  },
  {
   "cell_type": "code",
   "execution_count": null,
   "id": "915a70b9",
   "metadata": {
    "collapsed": false,
    "jupyter": {
     "outputs_hidden": false
    }
   },
   "outputs": [],
   "source": [
    "d2.apply_op(Jz)"
   ]
  },
  {
   "cell_type": "code",
   "execution_count": null,
   "id": "415427f7",
   "metadata": {
    "collapsed": false,
    "jupyter": {
     "outputs_hidden": false
    }
   },
   "outputs": [],
   "source": [
    "qapply(_)"
   ]
  },
  {
   "cell_type": "code",
   "execution_count": null,
   "id": "5639b2d3",
   "metadata": {
    "collapsed": false,
    "jupyter": {
     "outputs_hidden": false
    }
   },
   "outputs": [],
   "source": [
    "qapply((Jy*d2).doit())"
   ]
  },
  {
   "cell_type": "markdown",
   "id": "b40fe85c",
   "metadata": {},
   "source": [
    "## Evaluate entropy of the density matrices"
   ]
  },
  {
   "cell_type": "code",
   "execution_count": null,
   "id": "87b78796",
   "metadata": {
    "collapsed": false,
    "jupyter": {
     "outputs_hidden": false
    }
   },
   "outputs": [],
   "source": [
    "entropy(d2)"
   ]
  },
  {
   "cell_type": "code",
   "execution_count": null,
   "id": "a3c51699",
   "metadata": {
    "collapsed": false,
    "jupyter": {
     "outputs_hidden": false
    }
   },
   "outputs": [],
   "source": [
    "entropy(represent(d2))"
   ]
  },
  {
   "cell_type": "code",
   "execution_count": null,
   "id": "cb513dac",
   "metadata": {
    "collapsed": false,
    "jupyter": {
     "outputs_hidden": false
    }
   },
   "outputs": [],
   "source": [
    "entropy(represent(d2,format=\"numpy\"))"
   ]
  },
  {
   "cell_type": "code",
   "execution_count": null,
   "id": "ff095b92",
   "metadata": {
    "collapsed": false,
    "jupyter": {
     "outputs_hidden": false
    }
   },
   "outputs": [],
   "source": [
    "entropy(represent(d2,format=\"scipy.sparse\"))"
   ]
  },
  {
   "cell_type": "markdown",
   "id": "a5c97afa",
   "metadata": {},
   "source": [
    "## Density operators with Tensor Products as args"
   ]
  },
  {
   "cell_type": "code",
   "execution_count": null,
   "id": "2fcab2ba",
   "metadata": {
    "collapsed": false,
    "jupyter": {
     "outputs_hidden": false
    }
   },
   "outputs": [],
   "source": [
    "from sympy.core.trace import Tr\n",
    "\n",
    "A, B, C, D = symbols('A B C D',commutative=False)\n",
    "\n",
    "t1 = TensorProduct(A,B,C)\n",
    "\n",
    "d = Density([t1, 1.0])\n",
    "d.doit()\n",
    "\n",
    "t2 = TensorProduct(A,B)\n",
    "t3 = TensorProduct(C,D)\n",
    "\n",
    "d = Density([t2, 0.5], [t3, 0.5])\n",
    "d.doit() "
   ]
  },
  {
   "cell_type": "code",
   "execution_count": null,
   "id": "b8999059",
   "metadata": {
    "collapsed": false,
    "jupyter": {
     "outputs_hidden": false
    }
   },
   "outputs": [],
   "source": [
    "#mixed states\n",
    "d = Density([t2+t3, 1.0])\n",
    "d.doit() "
   ]
  },
  {
   "cell_type": "markdown",
   "id": "3051c775",
   "metadata": {},
   "source": [
    "## Trace operators on Density Operators with Spin States"
   ]
  },
  {
   "cell_type": "code",
   "execution_count": null,
   "id": "c76c8f9e",
   "metadata": {
    "collapsed": false,
    "jupyter": {
     "outputs_hidden": false
    }
   },
   "outputs": [],
   "source": [
    "from sympy.physics.quantum.density import Density\n",
    "from sympy.physics.quantum.spin import (\n",
    "    Jx, Jy, Jz, Jplus, Jminus, J2,\n",
    "    JxBra, JyBra, JzBra,\n",
    "    JxKet, JyKet, JzKet,\n",
    ")\n",
    "from sympy.core.trace import Tr\n",
    "\n",
    "d = Density([JzKet(1,1),0.5],[JzKet(1,-1),0.5]);\n",
    "t = Tr(d); \n",
    "\n",
    "display_pretty(t)\n",
    "t.doit()"
   ]
  },
  {
   "cell_type": "markdown",
   "id": "ce731bbd",
   "metadata": {},
   "source": [
    "## Partial Trace on Density Operators with Mixed State"
   ]
  },
  {
   "cell_type": "code",
   "execution_count": null,
   "id": "a741c8df",
   "metadata": {
    "collapsed": false,
    "jupyter": {
     "outputs_hidden": false
    }
   },
   "outputs": [],
   "source": [
    "#Partial trace on mixed state\n",
    "from sympy.core.trace import Tr\n",
    "\n",
    "A, B, C, D = symbols('A B C D',commutative=False)\n",
    "\n",
    "t1 = TensorProduct(A,B,C)\n",
    "\n",
    "d = Density([t1, 1.0])\n",
    "d.doit()\n",
    "\n",
    "t2 = TensorProduct(A,B)\n",
    "t3 = TensorProduct(C,D)\n",
    "\n",
    "d = Density([t2, 0.5], [t3, 0.5])\n",
    "\n",
    "\n",
    "tr = Tr(d,[1])\n",
    "tr.doit()"
   ]
  },
  {
   "cell_type": "markdown",
   "id": "240c39ce",
   "metadata": {},
   "source": [
    "## Partial Trace on Density Operators with Spin states"
   ]
  },
  {
   "cell_type": "code",
   "execution_count": null,
   "id": "c7a9ddad",
   "metadata": {
    "collapsed": false,
    "jupyter": {
     "outputs_hidden": false
    }
   },
   "outputs": [],
   "source": [
    "from sympy.physics.quantum.density import Density\n",
    "from sympy.physics.quantum.spin import (\n",
    "    Jx, Jy, Jz, Jplus, Jminus, J2,\n",
    "    JxBra, JyBra, JzBra,\n",
    "    JxKet, JyKet, JzKet,\n",
    ")\n",
    "from sympy.core.trace import Tr\n",
    "\n",
    "tp1 = TensorProduct(JzKet(1,1), JzKet(1,-1))\n",
    "\n",
    "#trace out 0 index\n",
    "d = Density([tp1,1]);\n",
    "t = Tr(d,[0]); \n",
    "\n",
    "display_pretty(t)\n",
    "display_pretty(t.doit())\n",
    "\n",
    "#trace out 1 index\n",
    "t = Tr(d,[1])\n",
    "display_pretty(t)\n",
    "t.doit()"
   ]
  },
  {
   "cell_type": "markdown",
   "id": "dc0daecc",
   "metadata": {},
   "source": [
    "## Examples of qapply() on Density matrices with spin states"
   ]
  },
  {
   "cell_type": "code",
   "execution_count": null,
   "id": "1eec1b88",
   "metadata": {
    "collapsed": false,
    "jupyter": {
     "outputs_hidden": false
    }
   },
   "outputs": [],
   "source": [
    "psi = Ket('psi')\n",
    "phi = Ket('phi')\n",
    "\n",
    "u = UnitaryOperator()\n",
    "d = Density((psi,0.5),(phi,0.5)); d\n",
    "\n",
    "display_pretty(qapply(u*d))\n",
    " \n",
    "# another example\n",
    "up = JzKet(S(1)/2, S(1)/2)\n",
    "down = JzKet(S(1)/2, -S(1)/2)\n",
    "d = Density((up,0.5),(down,0.5))\n",
    "\n",
    "uMat = Matrix([[0,1],[1,0]])\n",
    "display_pretty(qapply(uMat*d))\n",
    "\n",
    "\n"
   ]
  },
  {
   "cell_type": "markdown",
   "id": "cd61d23e",
   "metadata": {},
   "source": [
    "## Example of qapply() on Density Matrices with qubits"
   ]
  },
  {
   "cell_type": "code",
   "execution_count": null,
   "id": "7acf227d",
   "metadata": {
    "collapsed": false,
    "jupyter": {
     "outputs_hidden": false
    }
   },
   "outputs": [],
   "source": [
    "from sympy.physics.quantum.gate import UGate\n",
    "from sympy.physics.quantum.qubit import Qubit\n",
    "\n",
    "uMat = UGate((0,), Matrix([[0,1],[1,0]]))\n",
    "d = Density([Qubit('0'),0.5],[Qubit('1'), 0.5])\n",
    "\n",
    "display_pretty(d)\n",
    "\n",
    "#after applying Not gate\n",
    "display_pretty(qapply(uMat*d) )"
   ]
  }
 ],
 "metadata": {
  "kernelspec": {
   "display_name": "Python 3",
   "language": "python",
   "name": "python3"
  },
  "language_info": {
   "codemirror_mode": {
    "name": "ipython",
    "version": 3
   },
   "file_extension": ".py",
   "mimetype": "text/x-python",
   "name": "python",
   "nbconvert_exporter": "python",
   "pygments_lexer": "ipython3",
   "version": "3.8.8"
  }
 },
 "nbformat": 4,
 "nbformat_minor": 5
}
