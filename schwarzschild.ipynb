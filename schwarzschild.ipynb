{
 "cells": [
  {
   "cell_type": "markdown",
   "id": "83dd2b45",
   "metadata": {},
   "source": [
    "# Schwarzschild Solution to the Einstein's equation"
   ]
  },
  {
   "cell_type": "markdown",
   "id": "e55d0a80",
   "metadata": {},
   "source": [
    "We will rederive the equations from *General Theory of Relativity*, chapter 18, by Dirac. They describe a spherically symmetric solution to the Einstein's equation in vacuum.\n",
    "\n",
    "We will not try to solve the resulting equations.\n",
    "\n",
    "This version of the notebook uses functions that explicitly calculate the Christoffel symbols, hence the work is coordinate-system-dependent."
   ]
  },
  {
   "cell_type": "markdown",
   "id": "faaad969",
   "metadata": {},
   "source": [
    "Import the necessary modules."
   ]
  },
  {
   "cell_type": "code",
   "execution_count": null,
   "id": "747898ee",
   "metadata": {
    "collapsed": false,
    "jupyter": {
     "outputs_hidden": false
    }
   },
   "outputs": [],
   "source": [
    "from sympy import exp\n",
    "from sympy.diffgeom import *\n",
    "TP = TensorProduct"
   ]
  },
  {
   "cell_type": "markdown",
   "id": "9aa75b2e",
   "metadata": {},
   "source": [
    "Define a 4D manifold with a patch and a coordinate chart on which we will work."
   ]
  },
  {
   "cell_type": "code",
   "execution_count": null,
   "id": "25d8801c",
   "metadata": {
    "collapsed": false,
    "jupyter": {
     "outputs_hidden": false
    }
   },
   "outputs": [],
   "source": [
    "m = Manifold('Schwarzschild', 4)\n",
    "p = Patch('origin', m)\n",
    "cs = CoordSystem('spherical', p, ['t', 'r', 'theta', 'phi'])"
   ]
  },
  {
   "cell_type": "code",
   "execution_count": null,
   "id": "94e2c799",
   "metadata": {
    "collapsed": false,
    "jupyter": {
     "outputs_hidden": false
    }
   },
   "outputs": [],
   "source": [
    "m, p, cs"
   ]
  },
  {
   "cell_type": "markdown",
   "id": "f0a5f566",
   "metadata": {},
   "source": [
    "Prepare the variables containing the scalar fields and the 1-form fields."
   ]
  },
  {
   "cell_type": "code",
   "execution_count": null,
   "id": "57de8a69",
   "metadata": {
    "collapsed": false,
    "jupyter": {
     "outputs_hidden": false
    }
   },
   "outputs": [],
   "source": [
    "t, r, theta, phi = cs.coord_functions()\n",
    "t, r, theta, phi"
   ]
  },
  {
   "cell_type": "code",
   "execution_count": null,
   "id": "63e18dee",
   "metadata": {
    "collapsed": false,
    "jupyter": {
     "outputs_hidden": false
    }
   },
   "outputs": [],
   "source": [
    "dt, dr, dtheta, dphi = cs.base_oneforms()\n",
    "dt, dr, dtheta, dphi"
   ]
  },
  {
   "cell_type": "markdown",
   "id": "a60c9646",
   "metadata": {},
   "source": [
    "The most general spherically-symmetric metric has the following form."
   ]
  },
  {
   "cell_type": "code",
   "execution_count": null,
   "id": "a8931e37",
   "metadata": {
    "collapsed": false,
    "jupyter": {
     "outputs_hidden": false
    }
   },
   "outputs": [],
   "source": [
    "metric = exp(2*f(r))*TP(dt, dt) - exp(2*g(r))*TP(dr, dr) - r**2*TP(dtheta, dtheta) - r**2*sin(theta)**2*TP(dphi, dphi)\n",
    "metric"
   ]
  },
  {
   "cell_type": "markdown",
   "id": "e3db2269",
   "metadata": {},
   "source": [
    "The matrix $M$ representing the two-form as a bilinear map $V,U\\to V^tMU$ over the column vectors $V$ and $U$ in the canonical basis of the chosen coordinate system is:"
   ]
  },
  {
   "cell_type": "code",
   "execution_count": null,
   "id": "1d82e381",
   "metadata": {
    "collapsed": false,
    "jupyter": {
     "outputs_hidden": false
    }
   },
   "outputs": [],
   "source": [
    "twoform_to_matrix(metric)"
   ]
  },
  {
   "cell_type": "markdown",
   "id": "6c8de670",
   "metadata": {},
   "source": [
    "Now we will calculate the components in the same basis of the Ricci tensor."
   ]
  },
  {
   "cell_type": "code",
   "execution_count": null,
   "id": "e9bf122d",
   "metadata": {
    "collapsed": false,
    "jupyter": {
     "outputs_hidden": false
    }
   },
   "outputs": [],
   "source": [
    "ricci = metric_to_Ricci_components(metric)"
   ]
  },
  {
   "cell_type": "code",
   "execution_count": null,
   "id": "1ee70e1a",
   "metadata": {
    "collapsed": false,
    "jupyter": {
     "outputs_hidden": false
    }
   },
   "outputs": [],
   "source": [
    "ricci = [[simplify(ricci[i][j])\n",
    "            for j in range(4)] for i in range(4)]\n"
   ]
  },
  {
   "cell_type": "markdown",
   "id": "bcbd15fd",
   "metadata": {},
   "source": [
    "The diagonal components give the equations we are interested in."
   ]
  },
  {
   "cell_type": "code",
   "execution_count": null,
   "id": "6d2a7de1",
   "metadata": {
    "collapsed": false,
    "jupyter": {
     "outputs_hidden": false
    }
   },
   "outputs": [],
   "source": [
    "ricci[0][0]"
   ]
  },
  {
   "cell_type": "code",
   "execution_count": null,
   "id": "f11bc4fd",
   "metadata": {
    "collapsed": false,
    "jupyter": {
     "outputs_hidden": false
    }
   },
   "outputs": [],
   "source": [
    "ricci[1][1]"
   ]
  },
  {
   "cell_type": "code",
   "execution_count": null,
   "id": "b7f091b1",
   "metadata": {
    "collapsed": false,
    "jupyter": {
     "outputs_hidden": false
    }
   },
   "outputs": [],
   "source": [
    "ricci[2][2]"
   ]
  },
  {
   "cell_type": "code",
   "execution_count": null,
   "id": "ad3a363d",
   "metadata": {
    "collapsed": false,
    "jupyter": {
     "outputs_hidden": false
    }
   },
   "outputs": [],
   "source": [
    "ricci[3][3]"
   ]
  },
  {
   "cell_type": "markdown",
   "id": "280238f9",
   "metadata": {},
   "source": [
    "The off-diagonal components are zero."
   ]
  },
  {
   "cell_type": "code",
   "execution_count": null,
   "id": "df722fe4",
   "metadata": {
    "collapsed": false,
    "jupyter": {
     "outputs_hidden": false
    }
   },
   "outputs": [],
   "source": [
    "all(ricci[i][j]==0 for i in range(4) for j in range(4) if i!=j)"
   ]
  },
  {
   "cell_type": "markdown",
   "id": "acca4701",
   "metadata": {},
   "source": [
    "For completeness we can also check out the Christoffel symbol of 2nd kind. We will print only the non-zero components, and only one of the symmetric components (symmetric in the last two indices)."
   ]
  },
  {
   "cell_type": "code",
   "execution_count": null,
   "id": "2a09d4ae",
   "metadata": {
    "collapsed": false,
    "jupyter": {
     "outputs_hidden": false
    }
   },
   "outputs": [],
   "source": [
    "ch_2nd = metric_to_Christoffel_2nd(metric)\n",
    "filt = [((i,j,k), simplify(ch_2nd[i][j][k]))\n",
    "            for i in range(4) for j in range(4) for k in range(j,4)\n",
    "            if ch_2nd[i][j][k]!=0]"
   ]
  },
  {
   "cell_type": "code",
   "execution_count": null,
   "id": "09a535d7",
   "metadata": {
    "collapsed": false,
    "jupyter": {
     "outputs_hidden": false
    }
   },
   "outputs": [],
   "source": [
    "filt[0:3]"
   ]
  },
  {
   "cell_type": "code",
   "execution_count": null,
   "id": "8250d8a9",
   "metadata": {
    "collapsed": false,
    "jupyter": {
     "outputs_hidden": false
    }
   },
   "outputs": [],
   "source": [
    "filt[3:6]"
   ]
  },
  {
   "cell_type": "code",
   "execution_count": null,
   "id": "a7d99ed7",
   "metadata": {
    "collapsed": false,
    "jupyter": {
     "outputs_hidden": false
    }
   },
   "outputs": [],
   "source": [
    "filt[6:9]"
   ]
  },
  {
   "cell_type": "markdown",
   "id": "508ae6f3",
   "metadata": {},
   "source": [
    "We can also confirm that the Christoffel symbol is symmetric."
   ]
  },
  {
   "cell_type": "code",
   "execution_count": null,
   "id": "9659e105",
   "metadata": {
    "collapsed": false,
    "jupyter": {
     "outputs_hidden": false
    }
   },
   "outputs": [],
   "source": [
    "all([ch_2nd[k][i][j] == ch_2nd[k][j][i] for k in range(4) for i in range(4) for j in range(4)])"
   ]
  }
 ],
 "metadata": {
  "kernelspec": {
   "display_name": "Python 3",
   "language": "python",
   "name": "python3"
  },
  "language_info": {
   "codemirror_mode": {
    "name": "ipython",
    "version": 3
   },
   "file_extension": ".py",
   "mimetype": "text/x-python",
   "name": "python",
   "nbconvert_exporter": "python",
   "pygments_lexer": "ipython3",
   "version": "3.8.8"
  }
 },
 "nbformat": 4,
 "nbformat_minor": 5
}
