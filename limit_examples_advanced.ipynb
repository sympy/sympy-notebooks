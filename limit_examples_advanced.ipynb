{
 "cells": [
  {
   "cell_type": "code",
   "execution_count": null,
   "id": "09b1669a",
   "metadata": {},
   "outputs": [],
   "source": [
    "from sympy import *"
   ]
  },
  {
   "cell_type": "code",
   "execution_count": null,
   "id": "9c5fc511",
   "metadata": {},
   "outputs": [],
   "source": [
    "x = Symbol(\"x\")"
   ]
  },
  {
   "cell_type": "code",
   "execution_count": null,
   "id": "3329f937",
   "metadata": {
    "collapsed": false,
    "jupyter": {
     "outputs_hidden": false
    }
   },
   "outputs": [],
   "source": [
    "limit(exp(x)*exp(x**2)*(erf(x+1/exp(x))-erf(x)), x, oo)"
   ]
  },
  {
   "cell_type": "markdown",
   "id": "ddb5ed41",
   "metadata": {},
   "source": [
    "The examples here show the limit computation on exp-log expressions (from Gruntz' thesis pp. 122 to 123)"
   ]
  },
  {
   "cell_type": "markdown",
   "id": "1772957c",
   "metadata": {},
   "source": [
    "Eqn 8.1"
   ]
  },
  {
   "cell_type": "code",
   "execution_count": null,
   "id": "e50b76a6",
   "metadata": {
    "collapsed": false,
    "jupyter": {
     "outputs_hidden": false
    }
   },
   "outputs": [],
   "source": [
    "exp(x)*(exp(1/x-exp(-x))-exp(1/x))"
   ]
  },
  {
   "cell_type": "code",
   "execution_count": null,
   "id": "43d1f6dc",
   "metadata": {
    "collapsed": false,
    "jupyter": {
     "outputs_hidden": false
    }
   },
   "outputs": [],
   "source": [
    "limit(_, x, oo)"
   ]
  },
  {
   "cell_type": "markdown",
   "id": "ccf30623",
   "metadata": {},
   "source": [
    "Eqn 8.2"
   ]
  },
  {
   "cell_type": "code",
   "execution_count": null,
   "id": "bcd673e2",
   "metadata": {
    "collapsed": false,
    "jupyter": {
     "outputs_hidden": false
    }
   },
   "outputs": [],
   "source": [
    "exp(x)*(exp(1/x+exp(-x)+exp(-x**2)) - exp(1/x-exp(-exp(x))))"
   ]
  },
  {
   "cell_type": "code",
   "execution_count": null,
   "id": "ac056a4d",
   "metadata": {
    "collapsed": false,
    "jupyter": {
     "outputs_hidden": false
    }
   },
   "outputs": [],
   "source": [
    "limit(_, x, oo)"
   ]
  },
  {
   "cell_type": "markdown",
   "id": "2e4cf88c",
   "metadata": {},
   "source": [
    "Eqn 8.3"
   ]
  },
  {
   "cell_type": "code",
   "execution_count": null,
   "id": "182fbe51",
   "metadata": {
    "collapsed": false,
    "jupyter": {
     "outputs_hidden": false
    }
   },
   "outputs": [],
   "source": [
    "exp(exp(x-exp(-x))/(1-1/x)) - exp(exp(x))"
   ]
  },
  {
   "cell_type": "code",
   "execution_count": null,
   "id": "f4bd3b3c",
   "metadata": {
    "collapsed": false,
    "jupyter": {
     "outputs_hidden": false
    }
   },
   "outputs": [],
   "source": [
    "limit(_, x, oo)"
   ]
  },
  {
   "cell_type": "markdown",
   "id": "2e2036b6",
   "metadata": {},
   "source": [
    "Eqn 8.4"
   ]
  },
  {
   "cell_type": "code",
   "execution_count": null,
   "id": "aad934b2",
   "metadata": {
    "collapsed": false,
    "jupyter": {
     "outputs_hidden": false
    }
   },
   "outputs": [],
   "source": [
    "exp(exp(exp(x)/(1-1/x))) - exp(exp(exp(x)/(1-1/x-log(x)**(-log(x)))))"
   ]
  },
  {
   "cell_type": "code",
   "execution_count": null,
   "id": "b763b364",
   "metadata": {
    "collapsed": false,
    "jupyter": {
     "outputs_hidden": false
    }
   },
   "outputs": [],
   "source": [
    "limit(_, x, oo)"
   ]
  },
  {
   "cell_type": "markdown",
   "id": "978379fe",
   "metadata": {},
   "source": [
    "Eqn 8.5"
   ]
  },
  {
   "cell_type": "code",
   "execution_count": null,
   "id": "09ff746f",
   "metadata": {
    "collapsed": false,
    "jupyter": {
     "outputs_hidden": false
    }
   },
   "outputs": [],
   "source": [
    "exp(exp(exp(x+exp(-x)))) / exp(exp(exp(x)))"
   ]
  },
  {
   "cell_type": "code",
   "execution_count": null,
   "id": "0e691811",
   "metadata": {
    "collapsed": false,
    "jupyter": {
     "outputs_hidden": false
    }
   },
   "outputs": [],
   "source": [
    "limit(_, x, oo)"
   ]
  },
  {
   "cell_type": "markdown",
   "id": "d95ac941",
   "metadata": {},
   "source": [
    "Eqn 8.6"
   ]
  },
  {
   "cell_type": "code",
   "execution_count": null,
   "id": "b43420e1",
   "metadata": {
    "collapsed": false,
    "jupyter": {
     "outputs_hidden": false
    }
   },
   "outputs": [],
   "source": [
    "exp(exp(exp(x))) / exp(exp(exp(x-exp(-exp(x)))))"
   ]
  },
  {
   "cell_type": "code",
   "execution_count": null,
   "id": "f04844cd",
   "metadata": {
    "collapsed": false,
    "jupyter": {
     "outputs_hidden": false
    }
   },
   "outputs": [],
   "source": [
    "limit(_, x, oo)"
   ]
  },
  {
   "cell_type": "markdown",
   "id": "6d1e2ece",
   "metadata": {},
   "source": [
    "Eqn 8.7"
   ]
  },
  {
   "cell_type": "code",
   "execution_count": null,
   "id": "49204ca4",
   "metadata": {
    "collapsed": false,
    "jupyter": {
     "outputs_hidden": false
    }
   },
   "outputs": [],
   "source": [
    "exp(exp(exp(x))) / exp(exp(exp(x-exp(-exp(exp(x))))))"
   ]
  },
  {
   "cell_type": "code",
   "execution_count": null,
   "id": "08b134b7",
   "metadata": {
    "collapsed": false,
    "jupyter": {
     "outputs_hidden": false
    }
   },
   "outputs": [],
   "source": [
    "limit(_, x, oo)"
   ]
  },
  {
   "cell_type": "markdown",
   "id": "f0ddcc29",
   "metadata": {},
   "source": [
    "Eqn 8.8"
   ]
  },
  {
   "cell_type": "code",
   "execution_count": null,
   "id": "d400edfc",
   "metadata": {
    "collapsed": false,
    "jupyter": {
     "outputs_hidden": false
    }
   },
   "outputs": [],
   "source": [
    "exp(exp(x)) / exp(exp(x-exp(-exp(exp(x)))))"
   ]
  },
  {
   "cell_type": "code",
   "execution_count": null,
   "id": "1b6093e5",
   "metadata": {
    "collapsed": false,
    "jupyter": {
     "outputs_hidden": false
    }
   },
   "outputs": [],
   "source": [
    "limit(_, x, oo)"
   ]
  },
  {
   "cell_type": "markdown",
   "id": "a1d47085",
   "metadata": {},
   "source": [
    "Eqn 8.9"
   ]
  },
  {
   "cell_type": "code",
   "execution_count": null,
   "id": "569dcc25",
   "metadata": {
    "collapsed": false,
    "jupyter": {
     "outputs_hidden": false
    }
   },
   "outputs": [],
   "source": [
    "log(x)**2 * exp(sqrt(log(x))*(log(log(x)))**2 * exp(sqrt(log(log(x))) * (log(log(log(x))))**3)) / sqrt(x)"
   ]
  },
  {
   "cell_type": "code",
   "execution_count": null,
   "id": "fd1a5af5",
   "metadata": {
    "collapsed": false,
    "jupyter": {
     "outputs_hidden": false
    }
   },
   "outputs": [],
   "source": [
    "limit(_, x, oo)"
   ]
  },
  {
   "cell_type": "markdown",
   "id": "174941c3",
   "metadata": {},
   "source": [
    "Eqn 8.10"
   ]
  },
  {
   "cell_type": "code",
   "execution_count": null,
   "id": "d03d0979",
   "metadata": {
    "collapsed": false,
    "jupyter": {
     "outputs_hidden": false
    }
   },
   "outputs": [],
   "source": [
    "(x*log(x)*(log(x*exp(x)-x**2))**2) / (log(log(x**2+2*exp(exp(3*x**3*log(x))))))"
   ]
  },
  {
   "cell_type": "code",
   "execution_count": null,
   "id": "30204e9a",
   "metadata": {
    "collapsed": false,
    "jupyter": {
     "outputs_hidden": false
    }
   },
   "outputs": [],
   "source": [
    "limit(_, x, oo)"
   ]
  },
  {
   "cell_type": "markdown",
   "id": "112adb13",
   "metadata": {},
   "source": [
    "Eqn 8.11"
   ]
  },
  {
   "cell_type": "code",
   "execution_count": null,
   "id": "d7ff8390",
   "metadata": {
    "collapsed": false,
    "jupyter": {
     "outputs_hidden": false
    }
   },
   "outputs": [],
   "source": [
    "(exp(x*exp(-x)/(exp(-x)+exp(-2*x**2/(x+1)))) - exp(x))/x"
   ]
  },
  {
   "cell_type": "code",
   "execution_count": null,
   "id": "df8f21b4",
   "metadata": {
    "collapsed": false,
    "jupyter": {
     "outputs_hidden": false
    }
   },
   "outputs": [],
   "source": [
    "limit(_, x, oo)"
   ]
  },
  {
   "cell_type": "markdown",
   "id": "bd0ecef5",
   "metadata": {},
   "source": [
    "Eqn 8.12"
   ]
  },
  {
   "cell_type": "code",
   "execution_count": null,
   "id": "ba0f2442",
   "metadata": {
    "collapsed": false,
    "jupyter": {
     "outputs_hidden": false
    }
   },
   "outputs": [],
   "source": [
    "(3**x + 5**x)**(1/x)"
   ]
  },
  {
   "cell_type": "code",
   "execution_count": null,
   "id": "ef45d46b",
   "metadata": {
    "collapsed": false,
    "jupyter": {
     "outputs_hidden": false
    }
   },
   "outputs": [],
   "source": [
    "limit(_, x, oo)"
   ]
  },
  {
   "cell_type": "markdown",
   "id": "35dac188",
   "metadata": {},
   "source": [
    "Eqn 8.13"
   ]
  },
  {
   "cell_type": "code",
   "execution_count": null,
   "id": "481111c2",
   "metadata": {
    "collapsed": false,
    "jupyter": {
     "outputs_hidden": false
    }
   },
   "outputs": [],
   "source": [
    "x/log(x**(log(x**(log(2)/log(x)))))"
   ]
  },
  {
   "cell_type": "code",
   "execution_count": null,
   "id": "ac2ea0ee",
   "metadata": {
    "collapsed": false,
    "jupyter": {
     "outputs_hidden": false
    }
   },
   "outputs": [],
   "source": [
    "limit(_, x, oo)"
   ]
  },
  {
   "cell_type": "markdown",
   "id": "ce872768",
   "metadata": {},
   "source": [
    "Eqn 8.14"
   ]
  },
  {
   "cell_type": "code",
   "execution_count": null,
   "id": "7110ccdb",
   "metadata": {
    "collapsed": false,
    "jupyter": {
     "outputs_hidden": false
    }
   },
   "outputs": [],
   "source": [
    "exp(exp(2*log(x**5+x)*log(log(x)))) / exp(exp(10*log(x)*log(log(x))))"
   ]
  },
  {
   "cell_type": "code",
   "execution_count": null,
   "id": "ad4a2a1e",
   "metadata": {
    "collapsed": false,
    "jupyter": {
     "outputs_hidden": false
    }
   },
   "outputs": [],
   "source": [
    "limit(_, x, oo)"
   ]
  },
  {
   "cell_type": "markdown",
   "id": "93c027b1",
   "metadata": {},
   "source": [
    "Eqn 8.15"
   ]
  },
  {
   "cell_type": "code",
   "execution_count": null,
   "id": "7647f8a8",
   "metadata": {
    "collapsed": false,
    "jupyter": {
     "outputs_hidden": false
    }
   },
   "outputs": [],
   "source": [
    "4*exp(exp(S(5)/2*x**(-S(5)/7)+ S(21)/8*x**(S(6)/11)+2*x**(-8)+S(54)/17*x**(S(49)/45) ))**8 / (9*log(log(-log(S(4)/3*x**(-S(5)/14))))**(S(7)/6))"
   ]
  },
  {
   "cell_type": "code",
   "execution_count": null,
   "id": "e07726ba",
   "metadata": {
    "collapsed": false,
    "jupyter": {
     "outputs_hidden": false
    }
   },
   "outputs": [],
   "source": [
    "limit(_, x, oo)"
   ]
  },
  {
   "cell_type": "markdown",
   "id": "d3ffcdce",
   "metadata": {},
   "source": [
    "Eqn 8.16"
   ]
  },
  {
   "cell_type": "code",
   "execution_count": null,
   "id": "20ade7c6",
   "metadata": {
    "collapsed": false,
    "jupyter": {
     "outputs_hidden": false
    }
   },
   "outputs": [],
   "source": [
    "(exp(4*x*exp(-x)/(1/exp(x)+1/exp(2*x**2/(x+1)))) - exp(x)) / exp(x)**4"
   ]
  },
  {
   "cell_type": "code",
   "execution_count": null,
   "id": "9270e763",
   "metadata": {
    "collapsed": false,
    "jupyter": {
     "outputs_hidden": false
    }
   },
   "outputs": [],
   "source": [
    "limit(_, x, oo)"
   ]
  },
  {
   "cell_type": "markdown",
   "id": "436bd295",
   "metadata": {},
   "source": [
    "Eqn 8.17"
   ]
  },
  {
   "cell_type": "code",
   "execution_count": null,
   "id": "1cd332e5",
   "metadata": {
    "collapsed": false,
    "jupyter": {
     "outputs_hidden": false
    }
   },
   "outputs": [],
   "source": [
    "exp(x*exp(-x)/(exp(-x)+exp(-2*x**2/(x+1))))/exp(x)"
   ]
  },
  {
   "cell_type": "code",
   "execution_count": null,
   "id": "10455565",
   "metadata": {
    "collapsed": false,
    "jupyter": {
     "outputs_hidden": false
    }
   },
   "outputs": [],
   "source": [
    "limit(_, x, oo)"
   ]
  },
  {
   "cell_type": "markdown",
   "id": "7002b6e2",
   "metadata": {},
   "source": [
    "Eqn 8.18"
   ]
  },
  {
   "cell_type": "code",
   "execution_count": null,
   "id": "0b7cec25",
   "metadata": {
    "collapsed": false,
    "jupyter": {
     "outputs_hidden": false
    }
   },
   "outputs": [],
   "source": [
    "(exp(exp(-x/(1+exp(-x))))*exp(-x/(1+exp(-x/(1+exp(-x)))))*exp(exp(-x+exp(-x/(1+exp(-x)))))) / (exp(-x/(1+exp(-x))))**2 - exp(x) + x"
   ]
  },
  {
   "cell_type": "code",
   "execution_count": null,
   "id": "14128ba7",
   "metadata": {
    "collapsed": false,
    "jupyter": {
     "outputs_hidden": false
    }
   },
   "outputs": [],
   "source": [
    "limit(_, x, oo)"
   ]
  },
  {
   "cell_type": "markdown",
   "id": "b7460dff",
   "metadata": {},
   "source": [
    "Eqn 8.19"
   ]
  },
  {
   "cell_type": "code",
   "execution_count": null,
   "id": "528ba7fe",
   "metadata": {
    "collapsed": false,
    "jupyter": {
     "outputs_hidden": false
    }
   },
   "outputs": [],
   "source": [
    "log(x)*(log(log(x)+log(log(x))) - log(log(x))) / (log(log(x)+log(log(log(x)))))"
   ]
  },
  {
   "cell_type": "code",
   "execution_count": null,
   "id": "8d6714da",
   "metadata": {
    "collapsed": false,
    "jupyter": {
     "outputs_hidden": false
    }
   },
   "outputs": [],
   "source": [
    "limit(_, x, oo)"
   ]
  },
  {
   "cell_type": "markdown",
   "id": "f4c6a553",
   "metadata": {},
   "source": [
    "Eqn 8.20"
   ]
  },
  {
   "cell_type": "code",
   "execution_count": null,
   "id": "200e5d51",
   "metadata": {
    "collapsed": false,
    "jupyter": {
     "outputs_hidden": false
    }
   },
   "outputs": [],
   "source": [
    "exp((log(log(x+exp(log(x)*log(log(x)))))) / (log(log(log(exp(x)+x+log(x))))))"
   ]
  },
  {
   "cell_type": "code",
   "execution_count": null,
   "id": "b279e8f4",
   "metadata": {
    "collapsed": false,
    "jupyter": {
     "outputs_hidden": false
    }
   },
   "outputs": [],
   "source": [
    "limit(_, x, oo)"
   ]
  },
  {
   "cell_type": "markdown",
   "id": "2fe60362",
   "metadata": {},
   "source": [
    "The following examples show limit computation on special functions (from Gruntz' thesis p. 126)"
   ]
  },
  {
   "cell_type": "markdown",
   "id": "b4a88b0d",
   "metadata": {},
   "source": [
    "Eqn 8.21"
   ]
  },
  {
   "cell_type": "code",
   "execution_count": null,
   "id": "f0130c70",
   "metadata": {
    "collapsed": false,
    "jupyter": {
     "outputs_hidden": false
    }
   },
   "outputs": [],
   "source": [
    "exp(x)*(sin(1/x+exp(-x))-sin(1/x+exp(-x**2)))"
   ]
  },
  {
   "cell_type": "code",
   "execution_count": null,
   "id": "666d111c",
   "metadata": {
    "collapsed": false,
    "jupyter": {
     "outputs_hidden": false
    }
   },
   "outputs": [],
   "source": [
    "limit(_, x, oo)"
   ]
  },
  {
   "cell_type": "markdown",
   "id": "7c4e49dd",
   "metadata": {},
   "source": [
    "Eqn 8.22"
   ]
  },
  {
   "cell_type": "code",
   "execution_count": null,
   "id": "efc2eff3",
   "metadata": {
    "collapsed": false,
    "jupyter": {
     "outputs_hidden": false
    }
   },
   "outputs": [],
   "source": [
    "exp(exp(x)) * (exp(sin(1/x+exp(-exp(x)))) - exp(sin(1/x)))"
   ]
  },
  {
   "cell_type": "code",
   "execution_count": null,
   "id": "28d78e45",
   "metadata": {
    "collapsed": false,
    "jupyter": {
     "outputs_hidden": false
    }
   },
   "outputs": [],
   "source": [
    "limit(_, x, oo)"
   ]
  },
  {
   "cell_type": "markdown",
   "id": "2b5ca8b0",
   "metadata": {},
   "source": [
    "Eqn 8.23"
   ]
  },
  {
   "cell_type": "code",
   "execution_count": null,
   "id": "4f7c2700",
   "metadata": {
    "collapsed": false,
    "jupyter": {
     "outputs_hidden": false
    }
   },
   "outputs": [],
   "source": [
    "(erf(x-exp(-exp(x))) - erf(x)) * exp(exp(x)) * exp(x**2)"
   ]
  },
  {
   "cell_type": "code",
   "execution_count": null,
   "id": "4d9e9a26",
   "metadata": {
    "collapsed": false,
    "jupyter": {
     "outputs_hidden": false
    }
   },
   "outputs": [],
   "source": [
    "limit(_, x, oo)"
   ]
  },
  {
   "cell_type": "markdown",
   "id": "93aef6ba",
   "metadata": {},
   "source": [
    "Eqn 8.24"
   ]
  },
  {
   "cell_type": "code",
   "execution_count": null,
   "id": "7d93d0a5",
   "metadata": {
    "collapsed": false,
    "jupyter": {
     "outputs_hidden": false
    }
   },
   "outputs": [],
   "source": [
    "(Ei(x-exp(-exp(x))) - Ei(x)) *exp(-x)*exp(exp(x))*x"
   ]
  },
  {
   "cell_type": "code",
   "execution_count": null,
   "id": "904278f1",
   "metadata": {
    "collapsed": false,
    "jupyter": {
     "outputs_hidden": false
    }
   },
   "outputs": [],
   "source": [
    "limit(_, x, oo)"
   ]
  },
  {
   "cell_type": "markdown",
   "id": "2c00a589",
   "metadata": {},
   "source": [
    "Eqn 8.25"
   ]
  },
  {
   "cell_type": "code",
   "execution_count": null,
   "id": "cd6d0b8c",
   "metadata": {
    "collapsed": false,
    "jupyter": {
     "outputs_hidden": false
    }
   },
   "outputs": [],
   "source": [
    "exp((log(2)+1)*x) * (zeta(x+exp(-x)) - zeta(x))"
   ]
  },
  {
   "cell_type": "code",
   "execution_count": null,
   "id": "48bf23cd",
   "metadata": {
    "collapsed": false,
    "jupyter": {
     "outputs_hidden": false
    }
   },
   "outputs": [],
   "source": [
    "#limit(_, x, oo)"
   ]
  },
  {
   "cell_type": "markdown",
   "id": "8fe62062",
   "metadata": {},
   "source": [
    "Eqn 8.26"
   ]
  },
  {
   "cell_type": "code",
   "execution_count": null,
   "id": "6e1c3ee6",
   "metadata": {
    "collapsed": false,
    "jupyter": {
     "outputs_hidden": false
    }
   },
   "outputs": [],
   "source": [
    "exp(x)*(gamma(x+exp(-x)) - gamma(x))"
   ]
  },
  {
   "cell_type": "code",
   "execution_count": null,
   "id": "5048a3ba",
   "metadata": {
    "collapsed": false,
    "jupyter": {
     "outputs_hidden": false
    }
   },
   "outputs": [],
   "source": [
    "limit(_, x, oo)"
   ]
  },
  {
   "cell_type": "markdown",
   "id": "e4c01a21",
   "metadata": {},
   "source": [
    "Eqn 8.27"
   ]
  },
  {
   "cell_type": "code",
   "execution_count": null,
   "id": "3ec2a71a",
   "metadata": {
    "collapsed": false,
    "jupyter": {
     "outputs_hidden": false
    }
   },
   "outputs": [],
   "source": [
    "exp(gamma(x-exp(-x))*exp(1/x)) - exp(gamma(x))"
   ]
  },
  {
   "cell_type": "code",
   "execution_count": null,
   "id": "6f637e00",
   "metadata": {
    "collapsed": false,
    "jupyter": {
     "outputs_hidden": false
    }
   },
   "outputs": [],
   "source": [
    "#limit(_, x, oo)"
   ]
  },
  {
   "cell_type": "markdown",
   "id": "af36a220",
   "metadata": {},
   "source": [
    "Eqn 8.28"
   ]
  },
  {
   "cell_type": "code",
   "execution_count": null,
   "id": "ce5b4fa7",
   "metadata": {
    "collapsed": false,
    "jupyter": {
     "outputs_hidden": false
    }
   },
   "outputs": [],
   "source": [
    "(gamma(x+1/gamma(x)) - gamma(x)) / log(x)"
   ]
  },
  {
   "cell_type": "code",
   "execution_count": null,
   "id": "5ebc61fa",
   "metadata": {
    "collapsed": false,
    "jupyter": {
     "outputs_hidden": false
    }
   },
   "outputs": [],
   "source": [
    "limit(_, x, oo)"
   ]
  },
  {
   "cell_type": "markdown",
   "id": "3f26a832",
   "metadata": {},
   "source": [
    "Eqn 8.29"
   ]
  },
  {
   "cell_type": "code",
   "execution_count": null,
   "id": "1448ddfc",
   "metadata": {
    "collapsed": false,
    "jupyter": {
     "outputs_hidden": false
    }
   },
   "outputs": [],
   "source": [
    "x * (gamma(x-1/gamma(x)) - gamma(x) + log(x))"
   ]
  },
  {
   "cell_type": "code",
   "execution_count": null,
   "id": "020e9c5a",
   "metadata": {
    "collapsed": false,
    "jupyter": {
     "outputs_hidden": false
    }
   },
   "outputs": [],
   "source": [
    "limit(_, x, oo)"
   ]
  },
  {
   "cell_type": "markdown",
   "id": "2c2f59e5",
   "metadata": {},
   "source": [
    "Eqn 8.30"
   ]
  },
  {
   "cell_type": "code",
   "execution_count": null,
   "id": "8565f98e",
   "metadata": {
    "collapsed": false,
    "jupyter": {
     "outputs_hidden": false
    }
   },
   "outputs": [],
   "source": [
    "((gamma(x+1/gamma(x)) - gamma(x))/log(x) - cos(1/x))*x*log(x)"
   ]
  },
  {
   "cell_type": "code",
   "execution_count": null,
   "id": "89c59168",
   "metadata": {
    "collapsed": false,
    "jupyter": {
     "outputs_hidden": false
    }
   },
   "outputs": [],
   "source": [
    "limit(_, x, oo)"
   ]
  },
  {
   "cell_type": "markdown",
   "id": "07c10d1d",
   "metadata": {},
   "source": [
    "Eqn 8.31"
   ]
  },
  {
   "cell_type": "code",
   "execution_count": null,
   "id": "aa5e0bef",
   "metadata": {
    "collapsed": false,
    "jupyter": {
     "outputs_hidden": false
    }
   },
   "outputs": [],
   "source": [
    "gamma(x+1)/sqrt(2*pi) - exp(-x)*(x**(x+S(1)/2) + x**(x-S(1)/2)/12)"
   ]
  },
  {
   "cell_type": "code",
   "execution_count": null,
   "id": "7ab053db",
   "metadata": {
    "collapsed": false,
    "jupyter": {
     "outputs_hidden": false
    }
   },
   "outputs": [],
   "source": [
    "limit(_, x, oo)"
   ]
  },
  {
   "cell_type": "markdown",
   "id": "8164c7ef",
   "metadata": {},
   "source": [
    "Eqn 8.32"
   ]
  },
  {
   "cell_type": "code",
   "execution_count": null,
   "id": "fbd1ef20",
   "metadata": {
    "collapsed": false,
    "jupyter": {
     "outputs_hidden": false
    }
   },
   "outputs": [],
   "source": [
    "log(gamma(gamma(x)))/exp(x)"
   ]
  },
  {
   "cell_type": "code",
   "execution_count": null,
   "id": "e6b698fc",
   "metadata": {
    "collapsed": false,
    "jupyter": {
     "outputs_hidden": false
    }
   },
   "outputs": [],
   "source": [
    "limit(_, x, oo)"
   ]
  },
  {
   "cell_type": "markdown",
   "id": "208dc697",
   "metadata": {},
   "source": [
    "Eqn 8.33"
   ]
  },
  {
   "cell_type": "code",
   "execution_count": null,
   "id": "8a8aad26",
   "metadata": {
    "collapsed": false,
    "jupyter": {
     "outputs_hidden": false
    }
   },
   "outputs": [],
   "source": [
    "exp(exp(digamma(digamma(x))))/x"
   ]
  },
  {
   "cell_type": "code",
   "execution_count": null,
   "id": "3308ece9",
   "metadata": {
    "collapsed": false,
    "jupyter": {
     "outputs_hidden": false
    }
   },
   "outputs": [],
   "source": [
    "limit(_, x, oo)"
   ]
  },
  {
   "cell_type": "markdown",
   "id": "d94af9d7",
   "metadata": {},
   "source": [
    "Eqn 8.34"
   ]
  },
  {
   "cell_type": "code",
   "execution_count": null,
   "id": "a37de61a",
   "metadata": {
    "collapsed": false,
    "jupyter": {
     "outputs_hidden": false
    }
   },
   "outputs": [],
   "source": [
    "exp(exp(digamma(log(x))))/x"
   ]
  },
  {
   "cell_type": "code",
   "execution_count": null,
   "id": "73bacb06",
   "metadata": {
    "collapsed": false,
    "jupyter": {
     "outputs_hidden": false
    }
   },
   "outputs": [],
   "source": [
    "limit(_, x, oo)"
   ]
  },
  {
   "cell_type": "markdown",
   "id": "d0cfd8f8",
   "metadata": {},
   "source": [
    "Eqn 8.35"
   ]
  },
  {
   "cell_type": "code",
   "execution_count": null,
   "id": "8a703eee",
   "metadata": {
    "collapsed": false,
    "jupyter": {
     "outputs_hidden": false
    }
   },
   "outputs": [],
   "source": [
    "exp(exp(exp(digamma(digamma(digamma(x))))))/x"
   ]
  },
  {
   "cell_type": "code",
   "execution_count": null,
   "id": "d5b6c688",
   "metadata": {
    "collapsed": false,
    "jupyter": {
     "outputs_hidden": false
    }
   },
   "outputs": [],
   "source": [
    "limit(_, x, oo)"
   ]
  },
  {
   "cell_type": "markdown",
   "id": "41753571",
   "metadata": {},
   "source": [
    "Eqn 8.36"
   ]
  },
  {
   "cell_type": "code",
   "execution_count": null,
   "id": "f97590e1",
   "metadata": {
    "collapsed": false,
    "jupyter": {
     "outputs_hidden": false
    }
   },
   "outputs": [],
   "source": [
    "besselj(2,x)*exp(x*(2*log(2+sqrt(3))-sqrt(3)))*sqrt(x)"
   ]
  },
  {
   "cell_type": "code",
   "execution_count": null,
   "id": "aed1f131",
   "metadata": {
    "collapsed": false,
    "jupyter": {
     "outputs_hidden": false
    }
   },
   "outputs": [],
   "source": [
    "#limit(_, x, oo)"
   ]
  },
  {
   "cell_type": "markdown",
   "id": "1e2fe93c",
   "metadata": {},
   "source": [
    "Eqn 8.37"
   ]
  },
  {
   "cell_type": "code",
   "execution_count": null,
   "id": "6020a8c5",
   "metadata": {
    "collapsed": false,
    "jupyter": {
     "outputs_hidden": false
    }
   },
   "outputs": [],
   "source": [
    "Max(x, exp(x))/log(Min(exp(-x), exp(-exp(x))))"
   ]
  },
  {
   "cell_type": "code",
   "execution_count": null,
   "id": "db1a9f12",
   "metadata": {
    "collapsed": false,
    "jupyter": {
     "outputs_hidden": false
    }
   },
   "outputs": [],
   "source": [
    "#limit(_, x, oo)"
   ]
  },
  {
   "cell_type": "markdown",
   "id": "1a6a473e",
   "metadata": {},
   "source": [
    "Some other examples"
   ]
  },
  {
   "cell_type": "code",
   "execution_count": null,
   "id": "7f3b8067",
   "metadata": {
    "collapsed": false,
    "jupyter": {
     "outputs_hidden": false
    }
   },
   "outputs": [],
   "source": [
    "digamma(digamma(digamma(x)))"
   ]
  },
  {
   "cell_type": "code",
   "execution_count": null,
   "id": "143158b9",
   "metadata": {
    "collapsed": false,
    "jupyter": {
     "outputs_hidden": false
    }
   },
   "outputs": [],
   "source": [
    "limit(_, x, oo)"
   ]
  },
  {
   "cell_type": "code",
   "execution_count": null,
   "id": "20e30b8b",
   "metadata": {
    "collapsed": false,
    "jupyter": {
     "outputs_hidden": false
    }
   },
   "outputs": [],
   "source": [
    "loggamma(loggamma(x))"
   ]
  },
  {
   "cell_type": "code",
   "execution_count": null,
   "id": "2705d486",
   "metadata": {
    "collapsed": false,
    "jupyter": {
     "outputs_hidden": false
    }
   },
   "outputs": [],
   "source": [
    "limit(_, x, oo)"
   ]
  }
 ],
 "metadata": {
  "kernelspec": {
   "display_name": "Python 3",
   "language": "python",
   "name": "python3"
  },
  "language_info": {
   "codemirror_mode": {
    "name": "ipython",
    "version": 3
   },
   "file_extension": ".py",
   "mimetype": "text/x-python",
   "name": "python",
   "nbconvert_exporter": "python",
   "pygments_lexer": "ipython3",
   "version": "3.8.8"
  }
 },
 "nbformat": 4,
 "nbformat_minor": 5
}
