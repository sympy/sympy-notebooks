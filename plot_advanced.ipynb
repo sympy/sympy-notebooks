{
 "cells": [
  {
   "cell_type": "markdown",
   "id": "b945fa55",
   "metadata": {},
   "source": [
    "## Unevaluated Integrals"
   ]
  },
  {
   "cell_type": "code",
   "execution_count": null,
   "id": "2b245128",
   "metadata": {},
   "outputs": [],
   "source": [
    "from sympy import *\n",
    "from sympy.plotting import plot\n",
    "\n",
    "x = Symbol('x')\n",
    "y = Symbol('y')"
   ]
  },
  {
   "cell_type": "code",
   "execution_count": null,
   "id": "07962ace",
   "metadata": {},
   "outputs": [],
   "source": [
    "i = Integral(log((sin(x)**2+1)*sqrt(x**2+1)),(x,0,y))"
   ]
  },
  {
   "cell_type": "code",
   "execution_count": null,
   "id": "5e555402",
   "metadata": {
    "collapsed": false,
    "jupyter": {
     "outputs_hidden": false
    }
   },
   "outputs": [],
   "source": [
    "i"
   ]
  },
  {
   "cell_type": "code",
   "execution_count": null,
   "id": "71486254",
   "metadata": {
    "collapsed": false,
    "jupyter": {
     "outputs_hidden": false
    }
   },
   "outputs": [],
   "source": [
    "i.evalf(subs={y:1})"
   ]
  },
  {
   "cell_type": "code",
   "execution_count": null,
   "id": "44d8e882",
   "metadata": {
    "collapsed": false,
    "jupyter": {
     "outputs_hidden": false
    }
   },
   "outputs": [],
   "source": [
    "plot(i,(y, 1, 5))"
   ]
  },
  {
   "cell_type": "markdown",
   "id": "dcf8f217",
   "metadata": {},
   "source": [
    "## Infinite Sums"
   ]
  },
  {
   "cell_type": "code",
   "execution_count": null,
   "id": "d8c17f11",
   "metadata": {},
   "outputs": [],
   "source": [
    "s = summation(1/x**y,(x,1,oo))"
   ]
  },
  {
   "cell_type": "code",
   "execution_count": null,
   "id": "b78d0bc8",
   "metadata": {
    "collapsed": false,
    "jupyter": {
     "outputs_hidden": false
    }
   },
   "outputs": [],
   "source": [
    "s"
   ]
  },
  {
   "cell_type": "code",
   "execution_count": null,
   "id": "337c91e1",
   "metadata": {
    "collapsed": false,
    "jupyter": {
     "outputs_hidden": false
    }
   },
   "outputs": [],
   "source": [
    "plot(s, (y, 2, 10))"
   ]
  },
  {
   "cell_type": "markdown",
   "id": "d0bbe357",
   "metadata": {},
   "source": [
    "## Finite sums"
   ]
  },
  {
   "cell_type": "code",
   "execution_count": null,
   "id": "bc1d2630",
   "metadata": {
    "collapsed": false,
    "jupyter": {
     "outputs_hidden": false
    }
   },
   "outputs": [],
   "source": [
    "p = plot(summation(1/x,(x,1,y)), (y, 2, 10))"
   ]
  },
  {
   "cell_type": "code",
   "execution_count": null,
   "id": "63d985a0",
   "metadata": {
    "collapsed": false,
    "jupyter": {
     "outputs_hidden": false
    }
   },
   "outputs": [],
   "source": [
    "p[0].only_integers = True\n",
    "\n",
    "p[0].steps = True\n",
    "\n",
    "p.show()"
   ]
  }
 ],
 "metadata": {
  "kernelspec": {
   "display_name": "Python 3",
   "language": "python",
   "name": "python3"
  },
  "language_info": {
   "codemirror_mode": {
    "name": "ipython",
    "version": 3
   },
   "file_extension": ".py",
   "mimetype": "text/x-python",
   "name": "python",
   "nbconvert_exporter": "python",
   "pygments_lexer": "ipython3",
   "version": "3.8.8"
  }
 },
 "nbformat": 4,
 "nbformat_minor": 5
}
