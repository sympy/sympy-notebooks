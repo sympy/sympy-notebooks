{
 "cells": [
  {
   "cell_type": "code",
   "execution_count": null,
   "id": "c78fb825",
   "metadata": {
    "collapsed": false,
    "jupyter": {
     "outputs_hidden": false
    }
   },
   "outputs": [],
   "source": [
    "from sympy import *\n",
    "from IPython.core.display import display_pretty\n",
    "from sympy.printing.latex import *\n",
    "from sympy.physics.quantum.cartesian import *\n",
    "from sympy.physics.quantum.qubit import *\n",
    "from sympy.physics.quantum.density import *\n",
    "\n",
    "#TODO: Add examples of simple qubit usage "
   ]
  },
  {
   "cell_type": "markdown",
   "id": "0f8af783",
   "metadata": {},
   "source": [
    "## Examples of Tr operations on Qubits"
   ]
  },
  {
   "cell_type": "code",
   "execution_count": null,
   "id": "3bff5a24",
   "metadata": {
    "collapsed": false,
    "jupyter": {
     "outputs_hidden": false
    }
   },
   "outputs": [],
   "source": [
    "q1 = Qubit('10110')\n",
    "q2 = Qubit('01010')\n",
    "d = Density( [q1, 0.6], [q2, 0.4] )\n",
    "\n",
    "# Trace one bit \n",
    "t = Tr(d,[0])\n",
    "\n",
    "display_pretty(t.doit())\n",
    "\n",
    "\n",
    "# Partial trace of 3 qubits\n",
    "# the 0th bit is the right-most bit\n",
    "t = Tr(d,[2, 1, 3])\n",
    "display_pretty(t.doit())"
   ]
  },
  {
   "cell_type": "markdown",
   "id": "3df3e66f",
   "metadata": {},
   "source": [
    "## Partial Tr of mixed state"
   ]
  },
  {
   "cell_type": "code",
   "execution_count": null,
   "id": "afd64440",
   "metadata": {
    "collapsed": false,
    "jupyter": {
     "outputs_hidden": false
    }
   },
   "outputs": [],
   "source": [
    "from sympy import *\n",
    "q = (1/sqrt(2)) * (Qubit('00') + Qubit('11'))\n",
    "\n",
    "d = Density ( [q, 1.0] )\n",
    "t = Tr(d, [0])\n",
    "display_pretty(t.doit())"
   ]
  }
 ],
 "metadata": {
  "kernelspec": {
   "display_name": "Python 3",
   "language": "python",
   "name": "python3"
  },
  "language_info": {
   "codemirror_mode": {
    "name": "ipython",
    "version": 3
   },
   "file_extension": ".py",
   "mimetype": "text/x-python",
   "name": "python",
   "nbconvert_exporter": "python",
   "pygments_lexer": "ipython3",
   "version": "3.8.8"
  }
 },
 "nbformat": 4,
 "nbformat_minor": 5
}
