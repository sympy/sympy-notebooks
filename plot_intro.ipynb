{
 "cells": [
  {
   "cell_type": "markdown",
   "id": "d340f52e",
   "metadata": {},
   "source": [
    "#New Plotting Framework for SymPy"
   ]
  },
  {
   "cell_type": "markdown",
   "id": "16b28f36",
   "metadata": {},
   "source": [
    "\n",
    "\n",
    "## Structure of the Module\n",
    "\n",
    "\n",
    "\n",
    "This module implements a new plotting framework for SymPy. The central class of the module is the `Plot` class that connects the data representations (subclasses of `BaseSeries`) with different plotting backends. It's not imported by default for backward compatibility with the old module.\n",
    "\n",
    "\n",
    "\n",
    "Then there are the `plot_*()` functions for plotting different kinds of plots and is better suited for interactive work.\n",
    "\n",
    "\n",
    "\n",
    "* ``plot``: Plots line plots in 2D.\n",
    "\n",
    "* ``plot_parametric``: Plots parametric line plots in 2D.\n",
    "\n",
    "* ``plot_implicit`` : Plots implicit equations and region plots in 2D\n",
    "\n",
    "* ``plot3d`` : Plots functions of two variables in 3D\n",
    "\n",
    "* ``plot3d_parametric_line``: Plots line parametric plots in 3D\n",
    "\n",
    "* ``plot3d_parametric_surface``   : Plots surface parametric plots of functions with two variables in 3D."
   ]
  },
  {
   "cell_type": "markdown",
   "id": "8ddf1365",
   "metadata": {},
   "source": [
    "##General examples"
   ]
  },
  {
   "cell_type": "code",
   "execution_count": null,
   "id": "812f8b42",
   "metadata": {},
   "outputs": [],
   "source": [
    "from sympy import *\n",
    "from sympy.plotting import plot, plot_parametric, plot3d, plot3d_parametric_line, plot3d_parametric_surface\n",
    "\n",
    "x = Symbol('x')\n",
    "y = Symbol('y')"
   ]
  },
  {
   "cell_type": "code",
   "execution_count": null,
   "id": "6e274606",
   "metadata": {
    "collapsed": false,
    "jupyter": {
     "outputs_hidden": false
    }
   },
   "outputs": [],
   "source": [
    "p = plot(x)"
   ]
  },
  {
   "cell_type": "code",
   "execution_count": null,
   "id": "8539b44b",
   "metadata": {
    "collapsed": false,
    "jupyter": {
     "outputs_hidden": false
    }
   },
   "outputs": [],
   "source": [
    "p # the Plot object"
   ]
  },
  {
   "cell_type": "code",
   "execution_count": null,
   "id": "9f5ee64a",
   "metadata": {
    "collapsed": false,
    "jupyter": {
     "outputs_hidden": false
    }
   },
   "outputs": [],
   "source": [
    "p[0] # one of the data series objects"
   ]
  },
  {
   "cell_type": "code",
   "execution_count": null,
   "id": "00633a0f",
   "metadata": {
    "collapsed": false,
    "jupyter": {
     "outputs_hidden": false
    }
   },
   "outputs": [],
   "source": [
    "p[0].label # an option of the data series"
   ]
  },
  {
   "cell_type": "code",
   "execution_count": null,
   "id": "e552f391",
   "metadata": {
    "collapsed": false,
    "jupyter": {
     "outputs_hidden": false
    }
   },
   "outputs": [],
   "source": [
    "p.legend # a global option of the plot"
   ]
  },
  {
   "cell_type": "code",
   "execution_count": null,
   "id": "682cf09a",
   "metadata": {
    "collapsed": false,
    "jupyter": {
     "outputs_hidden": false
    }
   },
   "outputs": [],
   "source": [
    "p.legend = True\n",
    "\n",
    "p.show()"
   ]
  },
  {
   "cell_type": "markdown",
   "id": "fc04c375",
   "metadata": {},
   "source": [
    "You can plot 2D different functions in the same plot."
   ]
  },
  {
   "cell_type": "code",
   "execution_count": null,
   "id": "944bb040",
   "metadata": {
    "collapsed": false,
    "jupyter": {
     "outputs_hidden": false
    }
   },
   "outputs": [],
   "source": [
    "p1 = plot_parametric(x*sin(x),x*cos(x), show=False)\n",
    "\n",
    "p1.extend(p) # Plot objects are just like lists.\n",
    "\n",
    "p1.show()"
   ]
  },
  {
   "cell_type": "code",
   "execution_count": null,
   "id": "68fad654",
   "metadata": {
    "collapsed": false,
    "jupyter": {
     "outputs_hidden": false
    }
   },
   "outputs": [],
   "source": [
    "p1.legend = True\n",
    "\n",
    "p1.show()"
   ]
  },
  {
   "cell_type": "code",
   "execution_count": null,
   "id": "60b2d621",
   "metadata": {
    "collapsed": false,
    "jupyter": {
     "outputs_hidden": false
    }
   },
   "outputs": [],
   "source": [
    "p1[0].line_color='r'\n",
    "\n",
    "p1[1].line_color='b' # a constant color\n",
    "\n",
    "p1.show()"
   ]
  },
  {
   "cell_type": "code",
   "execution_count": null,
   "id": "d6e3222b",
   "metadata": {
    "collapsed": false,
    "jupyter": {
     "outputs_hidden": false
    }
   },
   "outputs": [],
   "source": [
    "p1[0].line_color = lambda a : a # color dependent on the parameter\n",
    "\n",
    "p1.show()"
   ]
  },
  {
   "cell_type": "code",
   "execution_count": null,
   "id": "0f23f2fc",
   "metadata": {
    "collapsed": false,
    "jupyter": {
     "outputs_hidden": false
    }
   },
   "outputs": [],
   "source": [
    "p1.title = 'Big title'\n",
    "\n",
    "p1.xlabel = 'the x axis'\n",
    "\n",
    "p1[1].label = 'straight line'\n",
    "\n",
    "p1.show()"
   ]
  },
  {
   "cell_type": "code",
   "execution_count": null,
   "id": "7e3b2f8a",
   "metadata": {
    "collapsed": false,
    "jupyter": {
     "outputs_hidden": false
    }
   },
   "outputs": [],
   "source": [
    "p1.aspect_ratio"
   ]
  },
  {
   "cell_type": "code",
   "execution_count": null,
   "id": "fedc98d1",
   "metadata": {
    "collapsed": false,
    "jupyter": {
     "outputs_hidden": false
    }
   },
   "outputs": [],
   "source": [
    "p1.aspect_ratio = (1,1)\n",
    "\n",
    "p1.xlim = (-15,20)\n",
    "\n",
    "p1.show()"
   ]
  },
  {
   "cell_type": "markdown",
   "id": "c6599caf",
   "metadata": {},
   "source": [
    "Hm, `xlim` does not work in the notebook. Hopefully it works in IPython."
   ]
  },
  {
   "cell_type": "code",
   "execution_count": null,
   "id": "d5ec98e0",
   "metadata": {},
   "outputs": [],
   "source": [
    "p1._backend.ax[0].get_xlim()"
   ]
  },
  {
   "cell_type": "markdown",
   "id": "36c79e39",
   "metadata": {},
   "source": [
    "Yeah, the backend got the command, but the `inline` backend does not honour it."
   ]
  },
  {
   "cell_type": "markdown",
   "id": "bcddde04",
   "metadata": {},
   "source": [
    "## Adding expressions to a plot"
   ]
  },
  {
   "cell_type": "code",
   "execution_count": null,
   "id": "140b9d9e",
   "metadata": {
    "collapsed": false,
    "jupyter": {
     "outputs_hidden": false
    }
   },
   "outputs": [],
   "source": [
    "p = plot(x)\n",
    "\n",
    "p"
   ]
  },
  {
   "cell_type": "code",
   "execution_count": null,
   "id": "da43d39c",
   "metadata": {
    "collapsed": false,
    "jupyter": {
     "outputs_hidden": false
    }
   },
   "outputs": [],
   "source": [
    "p.extend(plot(x+1, show=False))\n",
    "\n",
    "p.show()\n",
    "\n",
    "p"
   ]
  },
  {
   "cell_type": "code",
   "execution_count": null,
   "id": "d4ba33f7",
   "metadata": {
    "collapsed": false,
    "jupyter": {
     "outputs_hidden": false
    }
   },
   "outputs": [],
   "source": [
    "p.append(plot(x+3, x**2, show=False)[1])\n",
    "\n",
    "p.show()\n",
    "\n",
    "p"
   ]
  },
  {
   "cell_type": "markdown",
   "id": "06f743c3",
   "metadata": {},
   "source": [
    "## Different types of plots"
   ]
  },
  {
   "cell_type": "markdown",
   "id": "8011693e",
   "metadata": {},
   "source": [
    "###``plot``\n",
    "\n",
    "The ``plot`` by default uses an recursive adaptive algorithm to plot line plots. The default depth of recursion is 12, which means the function will be sampled at a maximum of $2^{12}$ points."
   ]
  },
  {
   "cell_type": "code",
   "execution_count": null,
   "id": "be97fc80",
   "metadata": {
    "collapsed": false,
    "jupyter": {
     "outputs_hidden": false
    }
   },
   "outputs": [],
   "source": [
    "help(plot)"
   ]
  },
  {
   "cell_type": "code",
   "execution_count": null,
   "id": "27ba2960",
   "metadata": {
    "collapsed": false,
    "jupyter": {
     "outputs_hidden": false
    }
   },
   "outputs": [],
   "source": [
    "plot(sin(x**2)) # plots with adaptive sampling and default range of (-10, 10)"
   ]
  },
  {
   "cell_type": "markdown",
   "id": "166b4d35",
   "metadata": {},
   "source": [
    "You can also specify the depth of the recursion. It is also possible to disable adaptive sampling and use uniform sampling with ``nb_of_points``."
   ]
  },
  {
   "cell_type": "code",
   "execution_count": null,
   "id": "3f5c1339",
   "metadata": {
    "collapsed": false,
    "jupyter": {
     "outputs_hidden": false
    }
   },
   "outputs": [],
   "source": [
    "plot(sin(x**2), depth=7)  #specifying the depth of recursion."
   ]
  },
  {
   "cell_type": "code",
   "execution_count": null,
   "id": "a834d7e2",
   "metadata": {
    "collapsed": false,
    "jupyter": {
     "outputs_hidden": false
    }
   },
   "outputs": [],
   "source": [
    "plot(sin(x**2), adaptive=False, nb_of_points=500)"
   ]
  },
  {
   "cell_type": "markdown",
   "id": "8e700cee",
   "metadata": {},
   "source": [
    "###``plot_parametric``\n",
    "\n",
    "``plot_parametric`` uses an recursive adaptive sampling algorithm to plot."
   ]
  },
  {
   "cell_type": "code",
   "execution_count": null,
   "id": "d48bd456",
   "metadata": {
    "collapsed": false,
    "jupyter": {
     "outputs_hidden": false
    }
   },
   "outputs": [],
   "source": [
    "help(plot_parametric)"
   ]
  },
  {
   "cell_type": "code",
   "execution_count": null,
   "id": "b1dfefc7",
   "metadata": {
    "collapsed": false,
    "jupyter": {
     "outputs_hidden": false
    }
   },
   "outputs": [],
   "source": [
    "plot_parametric(cos(x), sin(x))"
   ]
  },
  {
   "cell_type": "markdown",
   "id": "cd293485",
   "metadata": {},
   "source": [
    "Multiple plots."
   ]
  },
  {
   "cell_type": "code",
   "execution_count": null,
   "id": "f9d7afbb",
   "metadata": {
    "collapsed": false,
    "jupyter": {
     "outputs_hidden": false
    }
   },
   "outputs": [],
   "source": [
    "plot_parametric((cos(x), sin(x)), (x, cos(x)))"
   ]
  },
  {
   "cell_type": "markdown",
   "id": "298f5e10",
   "metadata": {},
   "source": [
    "We can combine parametric and line plots into a single plot."
   ]
  },
  {
   "cell_type": "code",
   "execution_count": null,
   "id": "c4832046",
   "metadata": {
    "collapsed": false,
    "jupyter": {
     "outputs_hidden": false
    }
   },
   "outputs": [],
   "source": [
    "p = plot(sin(x), show=False)\n",
    "\n",
    "\n",
    "\n",
    "p.extend(plot_parametric(cos(x), sin(x), show=False))\n",
    "\n",
    "p.show()"
   ]
  },
  {
   "cell_type": "markdown",
   "id": "849f5561",
   "metadata": {},
   "source": [
    "###``plot3d``"
   ]
  },
  {
   "cell_type": "code",
   "execution_count": null,
   "id": "f7018e6e",
   "metadata": {
    "collapsed": false,
    "jupyter": {
     "outputs_hidden": false
    }
   },
   "outputs": [],
   "source": [
    "help(plot3d)"
   ]
  },
  {
   "cell_type": "code",
   "execution_count": null,
   "id": "cfd3c023",
   "metadata": {
    "collapsed": false,
    "jupyter": {
     "outputs_hidden": false
    }
   },
   "outputs": [],
   "source": [
    "plot3d(x*y)"
   ]
  },
  {
   "cell_type": "code",
   "execution_count": null,
   "id": "72c38133",
   "metadata": {
    "collapsed": false,
    "jupyter": {
     "outputs_hidden": false
    }
   },
   "outputs": [],
   "source": [
    "plot3d(x*y, nb_of_points_x=100, nb_of_points_y=50) "
   ]
  },
  {
   "cell_type": "markdown",
   "id": "35c1ad97",
   "metadata": {},
   "source": [
    "###``plot3_parametric_line``"
   ]
  },
  {
   "cell_type": "code",
   "execution_count": null,
   "id": "bfd67f21",
   "metadata": {
    "collapsed": false,
    "jupyter": {
     "outputs_hidden": false
    }
   },
   "outputs": [],
   "source": [
    "help(plot3d_parametric_line)"
   ]
  },
  {
   "cell_type": "code",
   "execution_count": null,
   "id": "b269f774",
   "metadata": {
    "collapsed": false,
    "jupyter": {
     "outputs_hidden": false
    }
   },
   "outputs": [],
   "source": [
    "plot3d_parametric_line(cos(x), sin(x), x)"
   ]
  },
  {
   "cell_type": "markdown",
   "id": "6c30f0fa",
   "metadata": {},
   "source": [
    "###``plot3d_parametric_surface``"
   ]
  },
  {
   "cell_type": "code",
   "execution_count": null,
   "id": "d30230ff",
   "metadata": {
    "collapsed": false,
    "jupyter": {
     "outputs_hidden": false
    }
   },
   "outputs": [],
   "source": [
    "help(plot3d_parametric_surface)"
   ]
  },
  {
   "cell_type": "code",
   "execution_count": null,
   "id": "56bd5398",
   "metadata": {
    "collapsed": false,
    "jupyter": {
     "outputs_hidden": false
    }
   },
   "outputs": [],
   "source": [
    "plot3d_parametric_surface(cos(x + y), sin(x - y), x - y)"
   ]
  },
  {
   "cell_type": "markdown",
   "id": "119868f4",
   "metadata": {},
   "source": [
    "## Complex values\n",
    "\n",
    "If complex values are encountered, they are discarded while plotting."
   ]
  },
  {
   "cell_type": "code",
   "execution_count": null,
   "id": "82599fba",
   "metadata": {
    "collapsed": false,
    "jupyter": {
     "outputs_hidden": false
    }
   },
   "outputs": [],
   "source": [
    "plot(sqrt(x), (x, -5, 5))"
   ]
  },
  {
   "cell_type": "markdown",
   "id": "6f09ca2d",
   "metadata": {},
   "source": [
    "\n",
    "\n",
    "## Textplot\n",
    "\n",
    "\n",
    "\n",
    "There is also the textplot backend that permits plotting in the terminal."
   ]
  },
  {
   "cell_type": "code",
   "execution_count": null,
   "id": "77b807c5",
   "metadata": {},
   "outputs": [],
   "source": [
    "pt = plot(sin(x),show=False)"
   ]
  },
  {
   "cell_type": "code",
   "execution_count": null,
   "id": "0dd3242e",
   "metadata": {},
   "outputs": [],
   "source": [
    "pt.backend = plot_backends['text']"
   ]
  },
  {
   "cell_type": "code",
   "execution_count": null,
   "id": "092cc8bb",
   "metadata": {
    "collapsed": false,
    "jupyter": {
     "outputs_hidden": false
    }
   },
   "outputs": [],
   "source": [
    "pt.show()"
   ]
  }
 ],
 "metadata": {
  "kernelspec": {
   "display_name": "Python 3",
   "language": "python",
   "name": "python3"
  },
  "language_info": {
   "codemirror_mode": {
    "name": "ipython",
    "version": 3
   },
   "file_extension": ".py",
   "mimetype": "text/x-python",
   "name": "python",
   "nbconvert_exporter": "python",
   "pygments_lexer": "ipython3",
   "version": "3.8.8"
  }
 },
 "nbformat": 4,
 "nbformat_minor": 5
}
