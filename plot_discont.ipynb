{
 "cells": [
  {
   "cell_type": "markdown",
   "id": "4a3a8cf9",
   "metadata": {},
   "source": [
    "The module does not cope well with discontinuities."
   ]
  },
  {
   "cell_type": "code",
   "execution_count": null,
   "id": "46c7bc8f",
   "metadata": {},
   "outputs": [],
   "source": [
    "from sympy import *\n",
    "from sympy.plotting import plot\n",
    "\n",
    "x = Symbol('x')"
   ]
  },
  {
   "cell_type": "code",
   "execution_count": null,
   "id": "bc400665",
   "metadata": {
    "collapsed": false,
    "jupyter": {
     "outputs_hidden": false
    }
   },
   "outputs": [],
   "source": [
    "plot(1/x)"
   ]
  },
  {
   "cell_type": "code",
   "execution_count": null,
   "id": "825887fc",
   "metadata": {
    "collapsed": false,
    "jupyter": {
     "outputs_hidden": false
    }
   },
   "outputs": [],
   "source": [
    "plot(1/x,(x, 0, 3))"
   ]
  },
  {
   "cell_type": "code",
   "execution_count": null,
   "id": "a10aabb2",
   "metadata": {
    "collapsed": false,
    "jupyter": {
     "outputs_hidden": false
    }
   },
   "outputs": [],
   "source": [
    "plot(Heaviside(x))"
   ]
  },
  {
   "cell_type": "code",
   "execution_count": null,
   "id": "b0f5ef64",
   "metadata": {
    "collapsed": false,
    "jupyter": {
     "outputs_hidden": false
    }
   },
   "outputs": [],
   "source": [
    "plot(sqrt(x))"
   ]
  },
  {
   "cell_type": "code",
   "execution_count": null,
   "id": "7955d8ab",
   "metadata": {
    "collapsed": false,
    "jupyter": {
     "outputs_hidden": false
    }
   },
   "outputs": [],
   "source": [
    "plot(-sqrt(sqrt(x)),sqrt(sqrt(x)))"
   ]
  },
  {
   "cell_type": "code",
   "execution_count": null,
   "id": "620682f4",
   "metadata": {
    "collapsed": false,
    "jupyter": {
     "outputs_hidden": false
    }
   },
   "outputs": [],
   "source": [
    "plot(LambertW(x))"
   ]
  },
  {
   "cell_type": "code",
   "execution_count": null,
   "id": "14b8e489",
   "metadata": {
    "collapsed": false,
    "jupyter": {
     "outputs_hidden": false
    }
   },
   "outputs": [],
   "source": [
    "plot(LambertW(x), sqrt(LambertW(x)), (x, -2, 1))"
   ]
  }
 ],
 "metadata": {
  "kernelspec": {
   "display_name": "Python 3",
   "language": "python",
   "name": "python3"
  },
  "language_info": {
   "codemirror_mode": {
    "name": "ipython",
    "version": 3
   },
   "file_extension": ".py",
   "mimetype": "text/x-python",
   "name": "python",
   "nbconvert_exporter": "python",
   "pygments_lexer": "ipython3",
   "version": "3.8.8"
  }
 },
 "nbformat": 4,
 "nbformat_minor": 5
}
