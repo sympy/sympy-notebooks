{
 "cells": [
  {
   "cell_type": "markdown",
   "id": "a652c783",
   "metadata": {},
   "source": [
    "# Coloring"
   ]
  },
  {
   "cell_type": "markdown",
   "id": "752d3edf",
   "metadata": {},
   "source": [
    "\n",
    "\n",
    "### Cartesian Line Plot"
   ]
  },
  {
   "cell_type": "code",
   "execution_count": null,
   "id": "2c733add",
   "metadata": {},
   "outputs": [],
   "source": [
    "from sympy import *\n",
    "from sympy.plotting import plot, plot_parametric, plot3d, plot3d_parametric_line, plot3d_parametric_surface\n",
    "\n",
    "x = Symbol('x')\n",
    "y = Symbol('y')"
   ]
  },
  {
   "cell_type": "code",
   "execution_count": null,
   "id": "b4bd625b",
   "metadata": {
    "collapsed": false,
    "jupyter": {
     "outputs_hidden": false
    }
   },
   "outputs": [],
   "source": [
    "p = plot(sin(x))"
   ]
  },
  {
   "cell_type": "markdown",
   "id": "a9f7b7d6",
   "metadata": {},
   "source": [
    "\n",
    "\n",
    "If the `line_color` aesthetic is a function of arity 1 then the coloring is a function of the x value of a point."
   ]
  },
  {
   "cell_type": "code",
   "execution_count": null,
   "id": "9a449754",
   "metadata": {
    "collapsed": false,
    "jupyter": {
     "outputs_hidden": false
    }
   },
   "outputs": [],
   "source": [
    "p[0].line_color = lambda a : a\n",
    "\n",
    "p.show()"
   ]
  },
  {
   "cell_type": "markdown",
   "id": "ba5545f3",
   "metadata": {},
   "source": [
    "\n",
    "\n",
    "If the arity is 2 then the coloring is a function of both coordinates."
   ]
  },
  {
   "cell_type": "code",
   "execution_count": null,
   "id": "c6030280",
   "metadata": {
    "collapsed": false,
    "jupyter": {
     "outputs_hidden": false
    }
   },
   "outputs": [],
   "source": [
    "p[0].line_color = lambda a, b : b\n",
    "\n",
    "p.show()"
   ]
  },
  {
   "cell_type": "markdown",
   "id": "ee04b16e",
   "metadata": {},
   "source": [
    "### Parametric Lines"
   ]
  },
  {
   "cell_type": "code",
   "execution_count": null,
   "id": "17e18719",
   "metadata": {
    "collapsed": false,
    "jupyter": {
     "outputs_hidden": false
    }
   },
   "outputs": [],
   "source": [
    "p = plot_parametric(x*sin(x), x*cos(x), (x,  0, 10))"
   ]
  },
  {
   "cell_type": "markdown",
   "id": "82418d53",
   "metadata": {},
   "source": [
    "\n",
    "\n",
    "If the arity is 1 the coloring depends on the parameter."
   ]
  },
  {
   "cell_type": "code",
   "execution_count": null,
   "id": "89e32397",
   "metadata": {
    "collapsed": false,
    "jupyter": {
     "outputs_hidden": false
    }
   },
   "outputs": [],
   "source": [
    "p[0].line_color = lambda a : a\n",
    "\n",
    "p.show()"
   ]
  },
  {
   "cell_type": "markdown",
   "id": "2457a34b",
   "metadata": {},
   "source": [
    "\n",
    "\n",
    "For arity 2 the coloring depends on coordinates."
   ]
  },
  {
   "cell_type": "code",
   "execution_count": null,
   "id": "0e708d0b",
   "metadata": {
    "collapsed": false,
    "jupyter": {
     "outputs_hidden": false
    }
   },
   "outputs": [],
   "source": [
    "p[0].line_color = lambda a, b : a\n",
    "\n",
    "p.show()"
   ]
  },
  {
   "cell_type": "code",
   "execution_count": null,
   "id": "07df8ff3",
   "metadata": {
    "collapsed": false,
    "jupyter": {
     "outputs_hidden": false
    }
   },
   "outputs": [],
   "source": [
    "p[0].line_color = lambda a, b : b\n",
    "\n",
    "p.show()"
   ]
  },
  {
   "cell_type": "markdown",
   "id": "fe461326",
   "metadata": {},
   "source": [
    "### 3D Parametric line"
   ]
  },
  {
   "cell_type": "markdown",
   "id": "55edbc17",
   "metadata": {},
   "source": [
    "\n",
    "\n",
    "Arity 1 - the first parameter. Arity 2 or 3 - the first two coordinates or all coordinates."
   ]
  },
  {
   "cell_type": "code",
   "execution_count": null,
   "id": "a7bda43f",
   "metadata": {
    "collapsed": false,
    "jupyter": {
     "outputs_hidden": false
    }
   },
   "outputs": [],
   "source": [
    "p = plot3d_parametric_line(sin(x)+0.1*sin(x)*cos(7*x),\n",
    "\n",
    "         cos(x)+0.1*cos(x)*cos(7*x),\n",
    "\n",
    "         0.1*sin(7*x),\n",
    "\n",
    "         (x, 0, 2*pi))"
   ]
  },
  {
   "cell_type": "code",
   "execution_count": null,
   "id": "852328d8",
   "metadata": {
    "collapsed": false,
    "jupyter": {
     "outputs_hidden": false
    }
   },
   "outputs": [],
   "source": [
    "p[0].line_color = lambda a : sin(4*a)\n",
    "\n",
    "p.show()"
   ]
  },
  {
   "cell_type": "code",
   "execution_count": null,
   "id": "b2987306",
   "metadata": {
    "collapsed": false,
    "jupyter": {
     "outputs_hidden": false
    }
   },
   "outputs": [],
   "source": [
    "p[0].line_color = lambda a, b : b\n",
    "\n",
    "p.show()"
   ]
  },
  {
   "cell_type": "code",
   "execution_count": null,
   "id": "371d264f",
   "metadata": {
    "collapsed": false,
    "jupyter": {
     "outputs_hidden": false
    }
   },
   "outputs": [],
   "source": [
    "p[0].line_color = lambda a, b, c : c\n",
    "\n",
    "p.show()"
   ]
  },
  {
   "cell_type": "markdown",
   "id": "0a9823a7",
   "metadata": {},
   "source": [
    "### Cartesian Surface Plot"
   ]
  },
  {
   "cell_type": "code",
   "execution_count": null,
   "id": "eabf84c0",
   "metadata": {
    "collapsed": false,
    "jupyter": {
     "outputs_hidden": false
    }
   },
   "outputs": [],
   "source": [
    "p = plot3d(sin(x)*y, (x, 0, 6*pi), (y, -5, 5))"
   ]
  },
  {
   "cell_type": "markdown",
   "id": "8eb63ded",
   "metadata": {},
   "source": [
    "\n",
    "\n",
    "Arity 1, 2 or 3 for first, the two first or all coordinates."
   ]
  },
  {
   "cell_type": "code",
   "execution_count": null,
   "id": "f1a9e63e",
   "metadata": {
    "collapsed": false,
    "jupyter": {
     "outputs_hidden": false
    }
   },
   "outputs": [],
   "source": [
    "p[0].surface_color = lambda a : a\n",
    "\n",
    "p.show()"
   ]
  },
  {
   "cell_type": "code",
   "execution_count": null,
   "id": "d856ac7e",
   "metadata": {
    "collapsed": false,
    "jupyter": {
     "outputs_hidden": false
    }
   },
   "outputs": [],
   "source": [
    "p[0].surface_color = lambda a, b : b\n",
    "\n",
    "p.show()"
   ]
  },
  {
   "cell_type": "code",
   "execution_count": null,
   "id": "9287ca16",
   "metadata": {
    "collapsed": false,
    "jupyter": {
     "outputs_hidden": false
    }
   },
   "outputs": [],
   "source": [
    "p[0].surface_color = lambda a, b, c : c\n",
    "\n",
    "p.show()"
   ]
  },
  {
   "cell_type": "code",
   "execution_count": null,
   "id": "56ac0dfd",
   "metadata": {
    "collapsed": false,
    "jupyter": {
     "outputs_hidden": false
    }
   },
   "outputs": [],
   "source": [
    "p[0].surface_color = lambda a, b, c : sqrt((a-3*pi)**2+b**2)\n",
    "\n",
    "p.show()"
   ]
  },
  {
   "cell_type": "markdown",
   "id": "8db09caa",
   "metadata": {},
   "source": [
    "### Parametric surface plots"
   ]
  },
  {
   "cell_type": "markdown",
   "id": "7c3bfa4e",
   "metadata": {},
   "source": [
    "\n",
    "\n",
    "Arity 1 or 2 - first or both parameters."
   ]
  },
  {
   "cell_type": "code",
   "execution_count": null,
   "id": "7ad85fd8",
   "metadata": {
    "collapsed": false,
    "jupyter": {
     "outputs_hidden": false
    }
   },
   "outputs": [],
   "source": [
    "p = plot3d_parametric_surface(x*cos(4*y), x*sin(4*y), y,\n",
    "\n",
    "         (x, -1, 1), (y, -1, 1))"
   ]
  },
  {
   "cell_type": "code",
   "execution_count": null,
   "id": "02e6118b",
   "metadata": {
    "collapsed": false,
    "jupyter": {
     "outputs_hidden": false
    }
   },
   "outputs": [],
   "source": [
    "p[0].surface_color = lambda a : a\n",
    "\n",
    "p.show()"
   ]
  },
  {
   "cell_type": "code",
   "execution_count": null,
   "id": "98e47848",
   "metadata": {
    "collapsed": false,
    "jupyter": {
     "outputs_hidden": false
    }
   },
   "outputs": [],
   "source": [
    "p[0].surface_color = lambda a, b : a*b\n",
    "\n",
    "p.show()"
   ]
  },
  {
   "cell_type": "markdown",
   "id": "5cd2d85a",
   "metadata": {},
   "source": [
    "Arrity of 3 will color by coordinates."
   ]
  },
  {
   "cell_type": "code",
   "execution_count": null,
   "id": "d4d2884b",
   "metadata": {
    "collapsed": false,
    "jupyter": {
     "outputs_hidden": false
    }
   },
   "outputs": [],
   "source": [
    "p[0].surface_color = lambda a, b, c : sqrt(a**2+b**2+c**2)\n",
    "\n",
    "p.show()"
   ]
  }
 ],
 "metadata": {
  "kernelspec": {
   "display_name": "Python 3",
   "language": "python",
   "name": "python3"
  },
  "language_info": {
   "codemirror_mode": {
    "name": "ipython",
    "version": 3
   },
   "file_extension": ".py",
   "mimetype": "text/x-python",
   "name": "python",
   "nbconvert_exporter": "python",
   "pygments_lexer": "ipython3",
   "version": "3.8.8"
  }
 },
 "nbformat": 4,
 "nbformat_minor": 5
}
