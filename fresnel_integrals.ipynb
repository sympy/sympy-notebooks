{
 "cells": [
  {
   "cell_type": "code",
   "execution_count": null,
   "id": "7bc7acec",
   "metadata": {},
   "outputs": [],
   "source": [
    "from sympy import *\n",
    "from sympy.plotting import plot, plot_parametric"
   ]
  },
  {
   "cell_type": "markdown",
   "id": "4bda0f34",
   "metadata": {},
   "source": [
    "Plot of the two Fresnel integrals $S(x)$ and $C(x)$"
   ]
  },
  {
   "cell_type": "code",
   "execution_count": null,
   "id": "e9dc0d45",
   "metadata": {
    "collapsed": false,
    "jupyter": {
     "outputs_hidden": false
    }
   },
   "outputs": [],
   "source": [
    "x = Symbol(\"x\")"
   ]
  },
  {
   "cell_type": "code",
   "execution_count": null,
   "id": "20271163",
   "metadata": {
    "collapsed": false,
    "jupyter": {
     "outputs_hidden": false
    }
   },
   "outputs": [],
   "source": [
    "plot(fresnels(x), fresnelc(x), (x, 0, 8))"
   ]
  },
  {
   "cell_type": "markdown",
   "id": "f07ed21b",
   "metadata": {},
   "source": [
    "The Cornu spiral defined as the parametric curve $u(t),v(t) := C(t), S(t)$"
   ]
  },
  {
   "cell_type": "code",
   "execution_count": null,
   "id": "9547d89d",
   "metadata": {
    "collapsed": false,
    "jupyter": {
     "outputs_hidden": false
    }
   },
   "outputs": [],
   "source": [
    "plot_parametric(fresnelc(x), fresnels(x))"
   ]
  },
  {
   "cell_type": "markdown",
   "id": "9fde2d14",
   "metadata": {},
   "source": [
    "Compute and plot the leading order behaviour around $x=0$"
   ]
  },
  {
   "cell_type": "code",
   "execution_count": null,
   "id": "8ca2ad99",
   "metadata": {
    "collapsed": false,
    "jupyter": {
     "outputs_hidden": false
    }
   },
   "outputs": [],
   "source": [
    "ltc = series(fresnelc(x), x, n=2).removeO()\n",
    "lts = series(fresnels(x), x, n=4).removeO()"
   ]
  },
  {
   "cell_type": "code",
   "execution_count": null,
   "id": "9a421d8f",
   "metadata": {
    "collapsed": false,
    "jupyter": {
     "outputs_hidden": false
    }
   },
   "outputs": [],
   "source": [
    "lts, ltc"
   ]
  },
  {
   "cell_type": "code",
   "execution_count": null,
   "id": "7471da65",
   "metadata": {
    "collapsed": false,
    "jupyter": {
     "outputs_hidden": false
    }
   },
   "outputs": [],
   "source": [
    "plot(fresnels(x), lts, (x, 0, 1))\n",
    "plot(fresnelc(x), ltc, (x, 0, 1))"
   ]
  },
  {
   "cell_type": "markdown",
   "id": "3be42efe",
   "metadata": {},
   "source": [
    "Compute and plot the asymptotic series expansion at $x=\\infty$"
   ]
  },
  {
   "cell_type": "code",
   "execution_count": null,
   "id": "6bdee8c3",
   "metadata": {
    "collapsed": false,
    "jupyter": {
     "outputs_hidden": false
    }
   },
   "outputs": [],
   "source": [
    "# Series expansion at infinity is not implemented yet\n",
    "#ats = series(fresnels(x), x, oo)\n",
    "#atc = series(fresnelc(x), x, oo)"
   ]
  },
  {
   "cell_type": "code",
   "execution_count": null,
   "id": "a19605ea",
   "metadata": {
    "collapsed": false,
    "jupyter": {
     "outputs_hidden": false
    }
   },
   "outputs": [],
   "source": [
    "# However we can use the well known values\n",
    "ats = Rational(1,2) - cos(pi*x**2/2)/(pi*x)\n",
    "atc = Rational(1,2) + sin(pi*x**2/2)/(pi*x)"
   ]
  },
  {
   "cell_type": "code",
   "execution_count": null,
   "id": "c17dcf31",
   "metadata": {
    "collapsed": false,
    "jupyter": {
     "outputs_hidden": false
    }
   },
   "outputs": [],
   "source": [
    "plot(fresnels(x), ats, (x, 6, 8))\n",
    "plot(fresnelc(x), atc, (x, 6, 8))"
   ]
  },
  {
   "cell_type": "markdown",
   "id": "a3f62d25-a3e3-4f69-affc-1fff7149f087",
   "metadata": {},
   "source": [
    "Another nice example of a parametric plot"
   ]
  },
  {
   "cell_type": "code",
   "execution_count": null,
   "id": "0f2eb52b",
   "metadata": {
    "collapsed": false,
    "jupyter": {
     "outputs_hidden": false
    }
   },
   "outputs": [],
   "source": [
    "alpha = Symbol(\"alpha\")\n",
    "r = 3.0\n",
    "circ = r*exp(1.0j*alpha)"
   ]
  },
  {
   "cell_type": "code",
   "execution_count": null,
   "id": "92c6ffc1",
   "metadata": {
    "collapsed": false,
    "jupyter": {
     "outputs_hidden": false
    }
   },
   "outputs": [],
   "source": [
    "plot_parametric(re(fresnelc(circ)), im(fresnelc(circ)), (alpha, 0, 2*pi))"
   ]
  }
 ],
 "metadata": {
  "kernelspec": {
   "display_name": "Python 3",
   "language": "python",
   "name": "python3"
  },
  "language_info": {
   "codemirror_mode": {
    "name": "ipython",
    "version": 3
   },
   "file_extension": ".py",
   "mimetype": "text/x-python",
   "name": "python",
   "nbconvert_exporter": "python",
   "pygments_lexer": "ipython3",
   "version": "3.8.8"
  }
 },
 "nbformat": 4,
 "nbformat_minor": 5
}
