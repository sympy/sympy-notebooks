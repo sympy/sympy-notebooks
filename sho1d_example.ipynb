{
 "cells": [
  {
   "cell_type": "markdown",
   "id": "21e6a02a",
   "metadata": {},
   "source": [
    "# Example Notebook for sho1d.py"
   ]
  },
  {
   "cell_type": "markdown",
   "id": "9c8be406",
   "metadata": {},
   "source": [
    "Import the sho1d.py file as well as the test_sho1d.py file"
   ]
  },
  {
   "cell_type": "code",
   "execution_count": null,
   "id": "fe4c69b5",
   "metadata": {
    "collapsed": false,
    "jupyter": {
     "outputs_hidden": false
    }
   },
   "outputs": [],
   "source": [
    "from sympy import *\n",
    "from IPython.display import display_pretty\n",
    "from sympy.physics.quantum import *\n",
    "from sympy.physics.quantum.sho1d import *\n",
    "from sympy.physics.quantum.tests.test_sho1d import *"
   ]
  },
  {
   "cell_type": "markdown",
   "id": "5b2fad71",
   "metadata": {},
   "source": [
    "### Printing Of Operators"
   ]
  },
  {
   "cell_type": "markdown",
   "id": "25fde9cc",
   "metadata": {},
   "source": [
    "Create a raising and lowering operator and make sure they print correctly"
   ]
  },
  {
   "cell_type": "code",
   "execution_count": null,
   "id": "bff88015",
   "metadata": {
    "collapsed": false,
    "jupyter": {
     "outputs_hidden": false
    }
   },
   "outputs": [],
   "source": [
    "ad = RaisingOp('a')\n",
    "a = LoweringOp('a')"
   ]
  },
  {
   "cell_type": "code",
   "execution_count": null,
   "id": "cb8e1c6a",
   "metadata": {
    "collapsed": false,
    "jupyter": {
     "outputs_hidden": false
    }
   },
   "outputs": [],
   "source": [
    "ad"
   ]
  },
  {
   "cell_type": "code",
   "execution_count": null,
   "id": "e894b317",
   "metadata": {
    "collapsed": false,
    "jupyter": {
     "outputs_hidden": false
    }
   },
   "outputs": [],
   "source": [
    "a"
   ]
  },
  {
   "cell_type": "code",
   "execution_count": null,
   "id": "4a96bb76",
   "metadata": {
    "collapsed": false,
    "jupyter": {
     "outputs_hidden": false
    }
   },
   "outputs": [],
   "source": [
    "display_pretty(ad)\n",
    "display_pretty(a)"
   ]
  },
  {
   "cell_type": "code",
   "execution_count": null,
   "id": "a1a0837d",
   "metadata": {
    "collapsed": false,
    "jupyter": {
     "outputs_hidden": false
    }
   },
   "outputs": [],
   "source": [
    "print(srepr(ad))\n",
    "print(srepr(a))"
   ]
  },
  {
   "cell_type": "code",
   "execution_count": null,
   "id": "24c2ee6f",
   "metadata": {
    "collapsed": false,
    "jupyter": {
     "outputs_hidden": false
    }
   },
   "outputs": [],
   "source": [
    "print(repr(ad))\n",
    "print(repr(a))"
   ]
  },
  {
   "cell_type": "markdown",
   "id": "cc3d6fa0",
   "metadata": {},
   "source": [
    "### Printing of States"
   ]
  },
  {
   "cell_type": "markdown",
   "id": "a8af489b",
   "metadata": {},
   "source": [
    "Create a simple harmonic state and check its printing"
   ]
  },
  {
   "cell_type": "code",
   "execution_count": null,
   "id": "df2190b5",
   "metadata": {
    "collapsed": false,
    "jupyter": {
     "outputs_hidden": false
    }
   },
   "outputs": [],
   "source": [
    "k = SHOKet('k')\n",
    "b = SHOBra('b')"
   ]
  },
  {
   "cell_type": "code",
   "execution_count": null,
   "id": "5e2bb603",
   "metadata": {
    "collapsed": false,
    "jupyter": {
     "outputs_hidden": false
    }
   },
   "outputs": [],
   "source": [
    "k"
   ]
  },
  {
   "cell_type": "code",
   "execution_count": null,
   "id": "b80aaef1",
   "metadata": {
    "collapsed": false,
    "jupyter": {
     "outputs_hidden": false
    }
   },
   "outputs": [],
   "source": [
    "b"
   ]
  },
  {
   "cell_type": "code",
   "execution_count": null,
   "id": "ffa527fd",
   "metadata": {
    "collapsed": false,
    "jupyter": {
     "outputs_hidden": false
    }
   },
   "outputs": [],
   "source": [
    "print(pretty(k))\n",
    "print(pretty(b))"
   ]
  },
  {
   "cell_type": "code",
   "execution_count": null,
   "id": "88eb1d67",
   "metadata": {
    "collapsed": false,
    "jupyter": {
     "outputs_hidden": false
    }
   },
   "outputs": [],
   "source": [
    "print(latex(k))\n",
    "print(latex(b))"
   ]
  },
  {
   "cell_type": "code",
   "execution_count": null,
   "id": "d7f25de2",
   "metadata": {
    "collapsed": false,
    "jupyter": {
     "outputs_hidden": false
    }
   },
   "outputs": [],
   "source": [
    "print(srepr(k))\n",
    "print(srepr(b))"
   ]
  },
  {
   "cell_type": "markdown",
   "id": "e3dd460d",
   "metadata": {},
   "source": [
    "### Properties"
   ]
  },
  {
   "cell_type": "markdown",
   "id": "c0eba167",
   "metadata": {},
   "source": [
    "Take the dagger of the raising and lowering operators. They should return each other."
   ]
  },
  {
   "cell_type": "code",
   "execution_count": null,
   "id": "b31e710c",
   "metadata": {
    "collapsed": false,
    "jupyter": {
     "outputs_hidden": false
    }
   },
   "outputs": [],
   "source": [
    "Dagger(ad)"
   ]
  },
  {
   "cell_type": "code",
   "execution_count": null,
   "id": "8b105df5",
   "metadata": {
    "collapsed": false,
    "jupyter": {
     "outputs_hidden": false
    }
   },
   "outputs": [],
   "source": [
    "Dagger(a)"
   ]
  },
  {
   "cell_type": "markdown",
   "id": "62c3e2e1",
   "metadata": {},
   "source": [
    "Check Commutators of the raising and lowering operators"
   ]
  },
  {
   "cell_type": "code",
   "execution_count": null,
   "id": "1c0314a2",
   "metadata": {
    "collapsed": false,
    "jupyter": {
     "outputs_hidden": false
    }
   },
   "outputs": [],
   "source": [
    "Commutator(ad,a).doit()"
   ]
  },
  {
   "cell_type": "code",
   "execution_count": null,
   "id": "3e5ec85a",
   "metadata": {
    "collapsed": false,
    "jupyter": {
     "outputs_hidden": false
    }
   },
   "outputs": [],
   "source": [
    "Commutator(a,ad).doit()"
   ]
  },
  {
   "cell_type": "markdown",
   "id": "37f3a378",
   "metadata": {},
   "source": [
    "Take a look at the dual states of the bra and ket"
   ]
  },
  {
   "cell_type": "code",
   "execution_count": null,
   "id": "6a5278aa",
   "metadata": {
    "collapsed": false,
    "jupyter": {
     "outputs_hidden": false
    }
   },
   "outputs": [],
   "source": [
    "k.dual"
   ]
  },
  {
   "cell_type": "code",
   "execution_count": null,
   "id": "95e7924a",
   "metadata": {
    "collapsed": false,
    "jupyter": {
     "outputs_hidden": false
    }
   },
   "outputs": [],
   "source": [
    "b.dual"
   ]
  },
  {
   "cell_type": "markdown",
   "id": "307b150f",
   "metadata": {},
   "source": [
    "Taking the InnerProduct of the bra and ket will return the KroneckerDelta function"
   ]
  },
  {
   "cell_type": "code",
   "execution_count": null,
   "id": "7d4ea958",
   "metadata": {
    "collapsed": false,
    "jupyter": {
     "outputs_hidden": false
    }
   },
   "outputs": [],
   "source": [
    "InnerProduct(b,k).doit()"
   ]
  },
  {
   "cell_type": "markdown",
   "id": "2d771740",
   "metadata": {},
   "source": [
    "Take a look at how the raising and lowering operators act on states. We use qapply to apply an operator to a state"
   ]
  },
  {
   "cell_type": "code",
   "execution_count": null,
   "id": "5abbb213",
   "metadata": {
    "collapsed": false,
    "jupyter": {
     "outputs_hidden": false
    }
   },
   "outputs": [],
   "source": [
    "qapply(ad*k)"
   ]
  },
  {
   "cell_type": "code",
   "execution_count": null,
   "id": "b2cdfe3a",
   "metadata": {
    "collapsed": false,
    "jupyter": {
     "outputs_hidden": false
    }
   },
   "outputs": [],
   "source": [
    "qapply(a*k)"
   ]
  },
  {
   "cell_type": "markdown",
   "id": "fccab2d6",
   "metadata": {},
   "source": [
    "But the states may have an explicit energy level. Let's look at the ground and first excited states"
   ]
  },
  {
   "cell_type": "code",
   "execution_count": null,
   "id": "c17e4c81",
   "metadata": {
    "collapsed": false,
    "jupyter": {
     "outputs_hidden": false
    }
   },
   "outputs": [],
   "source": [
    "kg = SHOKet(0)\n",
    "kf = SHOKet(1)"
   ]
  },
  {
   "cell_type": "code",
   "execution_count": null,
   "id": "53d8d9b1",
   "metadata": {
    "collapsed": false,
    "jupyter": {
     "outputs_hidden": false
    }
   },
   "outputs": [],
   "source": [
    "qapply(ad*kg)"
   ]
  },
  {
   "cell_type": "code",
   "execution_count": null,
   "id": "ef062284",
   "metadata": {
    "collapsed": false,
    "jupyter": {
     "outputs_hidden": false
    }
   },
   "outputs": [],
   "source": [
    "qapply(ad*kf)"
   ]
  },
  {
   "cell_type": "code",
   "execution_count": null,
   "id": "ed24714a",
   "metadata": {
    "collapsed": false,
    "jupyter": {
     "outputs_hidden": false
    }
   },
   "outputs": [],
   "source": [
    "qapply(a*kg)"
   ]
  },
  {
   "cell_type": "code",
   "execution_count": null,
   "id": "688a8322",
   "metadata": {
    "collapsed": false,
    "jupyter": {
     "outputs_hidden": false
    }
   },
   "outputs": [],
   "source": [
    "qapply(a*kf)"
   ]
  },
  {
   "cell_type": "markdown",
   "id": "8fe4c97c",
   "metadata": {},
   "source": [
    "Notice that a*kg is 0 and a*kf is the |0> the ground state."
   ]
  },
  {
   "cell_type": "markdown",
   "id": "1d025439",
   "metadata": {},
   "source": [
    "### NumberOp & Hamiltonian"
   ]
  },
  {
   "cell_type": "markdown",
   "id": "b884c7dc",
   "metadata": {},
   "source": [
    "Let's look at the Number Operator and Hamiltonian Operator"
   ]
  },
  {
   "cell_type": "code",
   "execution_count": null,
   "id": "cf8ab628",
   "metadata": {
    "collapsed": false,
    "jupyter": {
     "outputs_hidden": false
    }
   },
   "outputs": [],
   "source": [
    "k = SHOKet('k')\n",
    "ad = RaisingOp('a')\n",
    "a = LoweringOp('a')\n",
    "N = NumberOp('N')\n",
    "H = Hamiltonian('H')"
   ]
  },
  {
   "cell_type": "markdown",
   "id": "8b68ed83",
   "metadata": {},
   "source": [
    "The number operator is simply expressed as ad*a"
   ]
  },
  {
   "cell_type": "code",
   "execution_count": null,
   "id": "0283fd6d",
   "metadata": {
    "collapsed": false,
    "jupyter": {
     "outputs_hidden": false
    }
   },
   "outputs": [],
   "source": [
    "N().rewrite('a').doit()"
   ]
  },
  {
   "cell_type": "markdown",
   "id": "a59754a2",
   "metadata": {},
   "source": [
    "The number operator expressed in terms of the position and momentum operators"
   ]
  },
  {
   "cell_type": "code",
   "execution_count": null,
   "id": "6ab42fb0",
   "metadata": {
    "collapsed": false,
    "jupyter": {
     "outputs_hidden": false
    }
   },
   "outputs": [],
   "source": [
    "N().rewrite('xp').doit()"
   ]
  },
  {
   "cell_type": "markdown",
   "id": "c7f8f214",
   "metadata": {},
   "source": [
    "It can also be expressed in terms of the Hamiltonian operator"
   ]
  },
  {
   "cell_type": "code",
   "execution_count": null,
   "id": "fa66fa3e",
   "metadata": {
    "collapsed": false,
    "jupyter": {
     "outputs_hidden": false
    }
   },
   "outputs": [],
   "source": [
    "N().rewrite('H').doit()"
   ]
  },
  {
   "cell_type": "markdown",
   "id": "ae178314",
   "metadata": {},
   "source": [
    "The Hamiltonian operator can be expressed in terms of the raising and lowering operators, position and momentum operators, and the number operator"
   ]
  },
  {
   "cell_type": "code",
   "execution_count": null,
   "id": "e14a8daf",
   "metadata": {
    "collapsed": false,
    "jupyter": {
     "outputs_hidden": false
    }
   },
   "outputs": [],
   "source": [
    "H().rewrite('a').doit()"
   ]
  },
  {
   "cell_type": "code",
   "execution_count": null,
   "id": "18dcca35",
   "metadata": {
    "collapsed": false,
    "jupyter": {
     "outputs_hidden": false
    }
   },
   "outputs": [],
   "source": [
    "H().rewrite('xp').doit()"
   ]
  },
  {
   "cell_type": "code",
   "execution_count": null,
   "id": "1d93c943",
   "metadata": {
    "collapsed": false,
    "jupyter": {
     "outputs_hidden": false
    }
   },
   "outputs": [],
   "source": [
    "H().rewrite('N').doit()"
   ]
  },
  {
   "cell_type": "markdown",
   "id": "63c0332b",
   "metadata": {},
   "source": [
    "The raising and lowering operators can also be expressed in terms of the position and momentum operators"
   ]
  },
  {
   "cell_type": "code",
   "execution_count": null,
   "id": "349656d5",
   "metadata": {
    "collapsed": false,
    "jupyter": {
     "outputs_hidden": false
    }
   },
   "outputs": [],
   "source": [
    "ad().rewrite('xp').doit()"
   ]
  },
  {
   "cell_type": "code",
   "execution_count": null,
   "id": "58e60db6",
   "metadata": {
    "collapsed": false,
    "jupyter": {
     "outputs_hidden": false
    }
   },
   "outputs": [],
   "source": [
    "a().rewrite('xp').doit()"
   ]
  },
  {
   "cell_type": "markdown",
   "id": "a40511f4",
   "metadata": {},
   "source": [
    "### Properties"
   ]
  },
  {
   "cell_type": "markdown",
   "id": "9cb75bc5",
   "metadata": {},
   "source": [
    "Let's take a look at how the NumberOp and Hamiltonian act on states"
   ]
  },
  {
   "cell_type": "code",
   "execution_count": null,
   "id": "cd67f3fd",
   "metadata": {
    "collapsed": false,
    "jupyter": {
     "outputs_hidden": false
    }
   },
   "outputs": [],
   "source": [
    "qapply(N*k)"
   ]
  },
  {
   "cell_type": "markdown",
   "id": "36723003",
   "metadata": {},
   "source": [
    "Apply the Number operator to a state returns the state times the ket"
   ]
  },
  {
   "cell_type": "code",
   "execution_count": null,
   "id": "6c49aa51",
   "metadata": {
    "collapsed": false,
    "jupyter": {
     "outputs_hidden": false
    }
   },
   "outputs": [],
   "source": [
    "ks = SHOKet(2)\n",
    "qapply(N*ks)"
   ]
  },
  {
   "cell_type": "code",
   "execution_count": null,
   "id": "d8c6c860",
   "metadata": {
    "collapsed": false,
    "jupyter": {
     "outputs_hidden": false
    }
   },
   "outputs": [],
   "source": [
    "qapply(H*k)"
   ]
  },
  {
   "cell_type": "markdown",
   "id": "607bccdd",
   "metadata": {},
   "source": [
    "Let's see how the operators commute with each other"
   ]
  },
  {
   "cell_type": "code",
   "execution_count": null,
   "id": "1dc5cb9a",
   "metadata": {
    "collapsed": false,
    "jupyter": {
     "outputs_hidden": false
    }
   },
   "outputs": [],
   "source": [
    "Commutator(N,ad).doit()"
   ]
  },
  {
   "cell_type": "code",
   "execution_count": null,
   "id": "c59b666c",
   "metadata": {
    "collapsed": false,
    "jupyter": {
     "outputs_hidden": false
    }
   },
   "outputs": [],
   "source": [
    "Commutator(N,a).doit()"
   ]
  },
  {
   "cell_type": "code",
   "execution_count": null,
   "id": "f567cd54",
   "metadata": {
    "collapsed": false,
    "jupyter": {
     "outputs_hidden": false
    }
   },
   "outputs": [],
   "source": [
    "Commutator(N,H).doit()"
   ]
  },
  {
   "cell_type": "markdown",
   "id": "d99ffaf4",
   "metadata": {},
   "source": [
    "### Representation"
   ]
  },
  {
   "cell_type": "markdown",
   "id": "d5fe673f",
   "metadata": {},
   "source": [
    "We can express the operators in NumberOp basis. There are different ways to create a matrix in Python, we will use 3 different ways."
   ]
  },
  {
   "cell_type": "markdown",
   "id": "7b8174ef",
   "metadata": {},
   "source": [
    "#### Sympy"
   ]
  },
  {
   "cell_type": "code",
   "execution_count": null,
   "id": "d4b97150",
   "metadata": {
    "collapsed": false,
    "jupyter": {
     "outputs_hidden": false
    }
   },
   "outputs": [],
   "source": [
    "represent(ad, basis=N, ndim=4, format='sympy')"
   ]
  },
  {
   "cell_type": "markdown",
   "id": "b5572ddc",
   "metadata": {},
   "source": [
    "#### Numpy"
   ]
  },
  {
   "cell_type": "code",
   "execution_count": null,
   "id": "51703180",
   "metadata": {
    "collapsed": false,
    "jupyter": {
     "outputs_hidden": false
    }
   },
   "outputs": [],
   "source": [
    "represent(ad, basis=N, ndim=5, format='numpy')"
   ]
  },
  {
   "cell_type": "markdown",
   "id": "8cbfd54f",
   "metadata": {},
   "source": [
    "#### Scipy.Sparse"
   ]
  },
  {
   "cell_type": "code",
   "execution_count": null,
   "id": "309ed591",
   "metadata": {
    "collapsed": false,
    "jupyter": {
     "outputs_hidden": false
    }
   },
   "outputs": [],
   "source": [
    "represent(ad, basis=N, ndim=4, format='scipy.sparse', spmatrix='lil')"
   ]
  },
  {
   "cell_type": "code",
   "execution_count": null,
   "id": "e414a6bb",
   "metadata": {
    "collapsed": false,
    "jupyter": {
     "outputs_hidden": false
    }
   },
   "outputs": [],
   "source": [
    "print represent(ad, basis=N, ndim=4, format='scipy.sparse', spmatrix='lil')"
   ]
  },
  {
   "cell_type": "markdown",
   "id": "2704276b",
   "metadata": {},
   "source": [
    "The same can be done for the other operators"
   ]
  },
  {
   "cell_type": "code",
   "execution_count": null,
   "id": "ffcf3931",
   "metadata": {
    "collapsed": false,
    "jupyter": {
     "outputs_hidden": false
    }
   },
   "outputs": [],
   "source": [
    "represent(a, basis=N, ndim=4, format='sympy')"
   ]
  },
  {
   "cell_type": "code",
   "execution_count": null,
   "id": "d1ed63ba",
   "metadata": {
    "collapsed": false,
    "jupyter": {
     "outputs_hidden": false
    }
   },
   "outputs": [],
   "source": [
    "represent(N, basis=N, ndim=4, format='sympy')"
   ]
  },
  {
   "cell_type": "code",
   "execution_count": null,
   "id": "d73def77",
   "metadata": {
    "collapsed": false,
    "jupyter": {
     "outputs_hidden": false
    }
   },
   "outputs": [],
   "source": [
    "represent(H, basis=N, ndim=4, format='sympy')"
   ]
  },
  {
   "cell_type": "markdown",
   "id": "770d610b",
   "metadata": {},
   "source": [
    "#### Ket and Bra Representation"
   ]
  },
  {
   "cell_type": "code",
   "execution_count": null,
   "id": "7abe2499",
   "metadata": {
    "collapsed": false,
    "jupyter": {
     "outputs_hidden": false
    }
   },
   "outputs": [],
   "source": [
    "k0 = SHOKet(0)\n",
    "k1 = SHOKet(1)\n",
    "b0 = SHOBra(0)\n",
    "b1 = SHOBra(1)"
   ]
  },
  {
   "cell_type": "code",
   "execution_count": null,
   "id": "bec0805c",
   "metadata": {
    "collapsed": false,
    "jupyter": {
     "outputs_hidden": false
    }
   },
   "outputs": [],
   "source": [
    "print(represent(k0, basis=N, ndim=5, format='sympy'))"
   ]
  },
  {
   "cell_type": "code",
   "execution_count": null,
   "id": "03f16423",
   "metadata": {
    "collapsed": false,
    "jupyter": {
     "outputs_hidden": false
    }
   },
   "outputs": [],
   "source": [
    "print(represent(k1, basis=N, ndim=5, format='sympy'))"
   ]
  },
  {
   "cell_type": "code",
   "execution_count": null,
   "id": "ee9161c5",
   "metadata": {
    "collapsed": false,
    "jupyter": {
     "outputs_hidden": false
    }
   },
   "outputs": [],
   "source": [
    "print(represent(b0, basis=N, ndim=5, format='sympy'))"
   ]
  },
  {
   "cell_type": "code",
   "execution_count": null,
   "id": "7740e272",
   "metadata": {
    "collapsed": false,
    "jupyter": {
     "outputs_hidden": false
    }
   },
   "outputs": [],
   "source": [
    "print(represent(b1, basis=N, ndim=5, format='sympy'))"
   ]
  }
 ],
 "metadata": {
  "kernelspec": {
   "display_name": "Python 3",
   "language": "python",
   "name": "python3"
  },
  "language_info": {
   "codemirror_mode": {
    "name": "ipython",
    "version": 3
   },
   "file_extension": ".py",
   "mimetype": "text/x-python",
   "name": "python",
   "nbconvert_exporter": "python",
   "pygments_lexer": "ipython3",
   "version": "3.8.8"
  }
 },
 "nbformat": 4,
 "nbformat_minor": 5
}
